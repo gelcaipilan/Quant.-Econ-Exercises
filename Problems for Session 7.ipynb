{
 "cells": [
  {
   "cell_type": "markdown",
   "id": "bb105119",
   "metadata": {},
   "source": [
    "# Problems for Session 8\n",
    "\n",
    "- Please try to do Problem 1 and Problem 2a. Problems 2b-2e are more optional, but I will provide solutions here."
   ]
  },
  {
   "cell_type": "code",
   "execution_count": 24,
   "id": "5ecf721d",
   "metadata": {},
   "outputs": [
    {
     "name": "stdout",
     "output_type": "stream",
     "text": [
      "zsh:1: = not found\n",
      "Note: you may need to restart the kernel to use updated packages.\n"
     ]
    }
   ],
   "source": [
    "pip install pyEdgeworthBox == 0.1.9"
   ]
  },
  {
   "cell_type": "code",
   "execution_count": 25,
   "id": "7c34a971",
   "metadata": {},
   "outputs": [],
   "source": [
    "import numpy as np \n",
    "import matplotlib.pyplot as plt\n",
    "import scipy.optimize as opt\n",
    "import pyEdgeworthBox as eb \n",
    "from scipy.optimize import fsolve, minimize, root\n",
    "plt.style.use('seaborn-whitegrid')"
   ]
  },
  {
   "cell_type": "markdown",
   "id": "c75e63ec",
   "metadata": {},
   "source": [
    "### Problem 1: "
   ]
  },
  {
   "cell_type": "markdown",
   "id": "2635576c",
   "metadata": {},
   "source": [
    "##### Problem 1a\n",
    "Implement the generalized equilibrium model used in class, but with Cobb-Douglas utility functions rather than quasilinear utility. (As was done in class, program the first order conditions for the consumers.) Use $$ u(x_1,x_2)= 0.3 log x_1 + 0.7 log x_2 $$ Let consumer A be endowed with 2 units of each good and consumer B be endowed with\n",
    "1 unit of each good. Figure out the price and the quantities consumed."
   ]
  },
  {
   "cell_type": "code",
   "execution_count": 26,
   "id": "2e88ae18",
   "metadata": {},
   "outputs": [
    {
     "name": "stdout",
     "output_type": "stream",
     "text": [
      "Optimal Price of both goods:  0.429\n",
      "Quantity consumed of Good 1 by consumer A: 2.000, at the price\n",
      "Quantity consumed of Good 1 by consumer B: 1.000\n",
      "Quantity consumed of Good 2 by consumer A: 2.000\n",
      "Quantity consumed of Good 2 by consumer B: 1.000\n",
      "Market Clearing Condition of consumer A: Consumption of Good 1 is 0.000 units, at price 0.429. \n",
      " While, consumption of good 2 is -0.000 units at price 1.\n",
      "Market Clearing Condition of consumer B: Consumption of Good 1 is -0.000 units, at price 0.429. \n",
      " While, consumption of good 2 is -0.429 units at price 1.\n"
     ]
    }
   ],
   "source": [
    "def constraints(arglist, endow1a, endow1b, endow2a, endow2b):\n",
    "    x1a = arglist[0] \n",
    "    x1b = arglist[1] \n",
    "    p = arglist[2] \n",
    "    cons = np.zeros(3)\n",
    "\n",
    "    # Returns quantity consumed at period 2\n",
    "    x2a = endow2a + p*(endow1a-x1a)\n",
    "    x2b = endow2b + p*(endow1b-x1b)\n",
    "\n",
    "    #Returns Equilibirum First Order Condition (Utility function's FOC)\n",
    "    cons[0] = (0.3/x1a) -p *0.7/x2a # f.o.c. for consumer a\n",
    "    cons[1] = (0.3/x1b) -p *0.7/x2b # f.o.c. for consumer b\n",
    "\n",
    "    #Returns Market clearance condition (I.e Warlas'condition)\n",
    "    cons[2] = x1a + x1b - endow1a - endow1b\n",
    "    \n",
    "    return cons\n",
    "\n",
    "#Endownments. \n",
    "endow1a = 2 \n",
    "endow2a = 2 \n",
    "endow1b = 1 \n",
    "endow2b = 1 \n",
    "\n",
    "res = root(constraints, np.ones(3), args=(endow1a, endow1b, endow2a, endow2b))\n",
    "\n",
    "''' Scipy.optimize.root \n",
    "        Parameters:\n",
    "            function, callable: A vector function to find a root of.\n",
    "            x0, ndarray: Initial guess.\n",
    "            argstuple, optional: Extra arguments passed to the objective function and its Jacobian.\n",
    "        Return: \n",
    "            OptimizeResult '''\n",
    "\n",
    "x = res['x'] #Optimal Prices. \n",
    "\n",
    "print(f\"Optimal Price of both goods:  {x[2]:.3f}\")\n",
    "print(f\"Quantity consumed of Good 1 by consumer A: {x[0]:.3f}, at the price\")\n",
    "print(f\"Quantity consumed of Good 1 by consumer B: {x[1]:.3f}\")\n",
    "print(f\"Quantity consumed of Good 2 by consumer A: {endow2a + x[2]*(endow1a-x[0]):.3f}\")\n",
    "print(f\"Quantity consumed of Good 2 by consumer B: {endow2b + x[2]*(endow1b-x[1]):.3f}\")\n",
    "print(f\"Market Clearing Condition of consumer A: Consumption of Good 1 is {x[0]-endow1a:.3f} units, at price {x[2]:.3f}. \\n While, consumption of good 2 is {x[2]*(endow2a-x[0]):.3f} units at price 1.\")\n",
    "print(f\"Market Clearing Condition of consumer B: Consumption of Good 1 is {x[1]-endow1b:.3f} units, at price {x[2]:.3f}. \\n While, consumption of good 2 is {x[2]*(endow2b-x[0]):.3f} units at price 1.\")\n"
   ]
  },
  {
   "cell_type": "markdown",
   "id": "d550bfef",
   "metadata": {},
   "source": [
    "##### Problem 1b\n",
    "Validate Walras’ law: That is, show that the market for good number 2 also clears in equilibrium, even though this market clearing condition (demand = supply) is not part of the equation system used in the solution.\n",
    "\n",
    "- Walras' law states that the aggregate value of excess demand is zero at any set prices. In this case we are dealing with two markets for Good 1 and Good 2. Therefore, for Walras law to hold the following condition must be true: $$ Price_x \\times Excess_{demandx} + Price_y \\times Excess_{demandy} = 0 $$ "
   ]
  },
  {
   "cell_type": "code",
   "execution_count": 27,
   "id": "e9b2e292",
   "metadata": {},
   "outputs": [
    {
     "name": "stdout",
     "output_type": "stream",
     "text": [
      "0.0\n"
     ]
    }
   ],
   "source": [
    "x = endow2a + x[2] * (endow1a-x[0]) + endow2b + x[2] * (endow1b - x[1]) - endow2a - endow2b\n",
    "print(x)"
   ]
  },
  {
   "cell_type": "markdown",
   "id": "f0e6d05f",
   "metadata": {},
   "source": [
    "Therefore, the walras' law holds in this case even though the market clearing condition is not part of the system of equation used in the solution."
   ]
  },
  {
   "cell_type": "markdown",
   "id": "66b79309",
   "metadata": {},
   "source": [
    "##### Problem 1c\n",
    "Draw a random point in the Edgeworth box for this problem, that is, an allocation of the goods to the two consumers. Show that the indifference curves of the consumers cross in this point. The slopes of the indifference curves are $$ \\frac{\\frac{-\\partial u}{\\partial x_1}}{\\frac{\\partial u}{\\partial x_2}} $$ By drawing 1000 random points from the Edgeworth box, find some points in the Edgeworth box that give Pareto improvements to the initial random point."
   ]
  },
  {
   "cell_type": "code",
   "execution_count": 28,
   "id": "85824599",
   "metadata": {},
   "outputs": [
    {
     "data": {
      "text/plain": [
       "Text(0.5, 1.0, 'Edgeworth Box')"
      ]
     },
     "execution_count": 28,
     "metadata": {},
     "output_type": "execute_result"
    },
    {
     "data": {
      "image/png": "[encoded data removed]",
      "text/plain": [
       "<Figure size 576x432 with 1 Axes>"
      ]
     },
     "metadata": {},
     "output_type": "display_data"
    }
   ],
   "source": [
    "#Christian's Solution \n",
    "randompoint = np.random.uniform(size = 2)*5 \n",
    "\n",
    "x1a = randompoint[0]\n",
    "x1b = 5-randompoint[0]\n",
    "\n",
    "x2a = randompoint[1]\n",
    "x2b = 5-randompoint[1]\n",
    "\n",
    "slopea = -(3/7)*(x1a/x2a)\n",
    "slopeb = -(3/7)*(x1b/x2b)\n",
    "\n",
    "util = lambda x1, x2: 0.3*np.log(x1) + 0.7*np.log(x2)\n",
    "\n",
    "utila = util(x1a,x2a) \n",
    "utilb = util(x1b,x2b)\n",
    "randompoints = np.random.uniform(size=20000)*5\n",
    "randompoints.shape = (10000,2)\n",
    "\n",
    "utila_all = util(randompoints[:,0],randompoints[:,1])\n",
    "utilb_all = util(5-randompoints[:,0],5-randompoints[:,1])\n",
    "\n",
    "pareto_improvement = (utila_all>utila) & (utilb_all>utilb) \n",
    "\n",
    "plt.figure(figsize = (8, 6))\n",
    "plt.scatter(randompoints[pareto_improvement,0],randompoints[pareto_improvement,1])\n",
    "plt.xlabel('Good 1')\n",
    "plt.ylabel('Good 2')\n",
    "plt.ylim(0, 5)\n",
    "plt.xlim(0,5)\n",
    "plt.title('Edgeworth Box')"
   ]
  },
  {
   "cell_type": "markdown",
   "id": "69f4f562",
   "metadata": {},
   "source": [
    "The diagram above shows the possible points that a consumer can obtained where it maximizes both of its consumption. "
   ]
  },
  {
   "cell_type": "markdown",
   "id": "7ca4a60d",
   "metadata": {},
   "source": [
    "##### Problem 1d\n",
    "Show that the market solution in point a. is Pareto efficient. This means that if you draw a large number of points from the Edgeworth box, you will not find a point that improves the utility of both consumer a and consumer b."
   ]
  },
  {
   "cell_type": "code",
   "execution_count": 29,
   "id": "dcb27b76",
   "metadata": {},
   "outputs": [
    {
     "name": "stdout",
     "output_type": "stream",
     "text": [
      "0\n"
     ]
    }
   ],
   "source": [
    "utila = util(2,2)\n",
    "utilb = util(3,3)\n",
    "\n",
    "randompoints = np.random.uniform(size=20000)*5\n",
    "randompoints.shape = (10000,2)\n",
    "\n",
    "utila_all = util(randompoints[:,0],randompoints[:,1])\n",
    "utilb_all = util(5-randompoints[:,0],5-randompoints[:,1])\n",
    "\n",
    "pareto_improvement= (utila_all>utila) & (utilb_all>utilb)    \n",
    "print(np.sum(pareto_improvement))"
   ]
  },
  {
   "cell_type": "code",
   "execution_count": 30,
   "id": "2953013a",
   "metadata": {},
   "outputs": [
    {
     "data": {
      "image/png": "[encoded data removed]",
      "text/plain": [
       "<Figure size 576x432 with 1 Axes>"
      ]
     },
     "metadata": {},
     "output_type": "display_data"
    }
   ],
   "source": [
    "EB = eb.EdgeBox( u1 = lambda x,y: 0.3 * np.log(x) + 0.7*np.log(y)\n",
    "              , u2 = lambda x,y: 0.3 * np.log(x) + 0.7*np.log(y)\n",
    "              , IE1 = [2,2]\n",
    "              , IE2 = [1,1])\n",
    "\n",
    "plt.figure(figsize = (8, 6))\n",
    "EB.plot()"
   ]
  },
  {
   "cell_type": "markdown",
   "id": "568ef9d5",
   "metadata": {},
   "source": [
    "The pareto optmimum is found where the two indifference curves are tangent and as well meet the budget line. I.e., at this precise point the utility for both consumers is maximized and is feasible (meaning both consumers are on a higher indifference curve)."
   ]
  },
  {
   "cell_type": "markdown",
   "id": "37d48f50",
   "metadata": {},
   "source": [
    "### Problem 2: General equilibrium with production."
   ]
  },
  {
   "cell_type": "markdown",
   "id": "a93bb10b",
   "metadata": {},
   "source": [
    "##### Problem 2a\n",
    "In the simplest version of a general equilibrium model with production, we have one consumer, who chooses consumption and leisure (and labor supply) and a firm that buys labor and sells consumption products. Choose labor as the numeraire. We will let the firm be competetive and we let it have a simple production function: $$ f(m) = 10 \\times\n",
    "m $$ where $m$ is labor. The firms profit is then: $$ p \\times f(m) - m $$ And the first order condition\n",
    "for profit maximization is: $$ p \\times 10 - 1 = 0 $$ Let leisure be given by $1-m$, and let the\n",
    "consumer preferences be represented with: $$ u(c,m)= c + \\frac{1}{\\frac{1+1}{0.2}} \\times m^{\\frac{1+1}{0.2}} $$ The\n",
    "consumer budget is that $ wm = pc$, but since $w = 1$, this is just $m = pc$. Implement this model. Figure out the equilibrium price, quantity produced and the equilibrium labor supply.\n",
    "\n",
    "- First Order Conditions for equilibrium states that: The optimal quantity consumed at period 1 is given by the partial derivative of the utility function with respect to each consumer. Therefore, the FOC implies that at the optimal price $$ consumption_{1a} + consumption_{1b} - Endowment_{1a} - Endowment_{1b} = 0 $$"
   ]
  },
  {
   "cell_type": "code",
   "execution_count": 32,
   "id": "2c196bc8",
   "metadata": {},
   "outputs": [
    {
     "name": "stdout",
     "output_type": "stream",
     "text": [
      "Optimal price : 0.1\n",
      "Quantity of labour : 1.5848931924611136\n",
      "Quantity of goods consumed: 15.848931924611135\n",
      "Quantity of Firm's production : 15.848931924611136\n"
     ]
    }
   ],
   "source": [
    "#Firm FOC from p*10 - 1 = 0\n",
    "price = 0.1\n",
    "\n",
    "#From consumer f.o.c found from the derivative of the utility function with respect to m. \n",
    "m = (1/price)**0.2\n",
    "\n",
    "# From consumer budget\n",
    "c = m/price\n",
    "\n",
    "#firm production\n",
    "cfirm = 10*m\n",
    "\n",
    "print(f'Optimal price : {price}') \n",
    "print(f'Quantity of labour : {m}') \n",
    "print(f'Quantity of goods consumed: {c}') \n",
    "print(f\"Quantity of Firm's production : {cfirm}\")"
   ]
  },
  {
   "cell_type": "markdown",
   "id": "e6bcd1b2",
   "metadata": {},
   "source": [
    "##### Problem 2b\n",
    "The model in problem a. is a bit uninteresting because of the (constant-returns-to-scale) production technology that determines the price. It is fairly easy to see that $p=0.1$ directly from the profit maximization of the firm, and the rest of the solution really just follows from that. We want a richer model, let $$ f(m) = m^{0.7}$$ (We can easily think that there is some capital in the background here, right. ) Now the “problem” is that the firm will have a profit. This profit is going to “break” the model. So let the firm give the profit to the consumer. Try to implement this model."
   ]
  },
  {
   "cell_type": "code",
   "execution_count": 39,
   "id": "583d4371",
   "metadata": {},
   "outputs": [
    {
     "name": "stdout",
     "output_type": "stream",
     "text": [
      "Labour supply: 0.935\n",
      "Price: 1.400\n",
      "Production: 0.954\n",
      "Consumption: 0.954\n",
      "Profit: 0.401\n",
      "Since labour supply is approx. equal to consumption, \n",
      " then Walras' law holds i.e. we cleared the labor market in the model.\n"
     ]
    }
   ],
   "source": [
    "def general_equilibirum2(arglist):\n",
    "    \n",
    "    m = arglist[0] \n",
    "    p = arglist[1] \n",
    "    \n",
    "    out = np.zeros(2)\n",
    "    \n",
    "    out[0] = 1/p - m**(1/0.2) # f.o.c. for consumer from budget constraint\n",
    "    out[1] = p*0.7*m**(-0.3) -1 # f.o.c. for firm from the derivative of the utility function\n",
    "    \n",
    "    return out\n",
    "\n",
    "res = root(general_equilibirum2,np.ones(2)) #Initial guess is 1\n",
    "\n",
    "x = res['x']\n",
    "profit = x[1]*x[0]**0.7-x[0]\n",
    "\n",
    "print(f\"Labour supply: {x[0]:.3f}\")\n",
    "print(f\"Price: {x[1]:.3f}\")\n",
    "print(f\"Production: {x[0]**0.7:.3f}\") #New production function\n",
    "print(f\"Consumption: {(profit+x[0])/x[1]:.3f}\")\n",
    "print(f\"Profit: {profit:.3f}\")\n",
    "print(\"Since labour supply is approx. equal to consumption, \\n then Walras' law holds i.e. we cleared the labor market in the model.\")\n"
   ]
  },
  {
   "cell_type": "markdown",
   "id": "a871ec61",
   "metadata": {},
   "source": [
    "##### Problem 2c\n",
    "Enter a government into the model. The government is going to need some taxes - since everything is in real terms in such a model, the government needs one unit of $c$. To finance that unit of $c$, let the government tax consumption. So government imposes a tax rate $t$. Then the price for the consumer will be $p(1+t)$, while the price for the producer will be $p$. And $t$ will need to be set so that $tc=p$ (the right hand side being the cost for the government when it needs to buy one unit of $c$). Try to implement this model and figure out the utility of the consumer in the model with government compared to the model without government. (Since the government does not do anything useful in this model, the consumer should be worse off.)"
   ]
  },
  {
   "cell_type": "code",
   "execution_count": 40,
   "id": "1c56d4fe",
   "metadata": {},
   "outputs": [
    {
     "name": "stdout",
     "output_type": "stream",
     "text": [
      "Labour supply: 0.536\n",
      "Price: 1.012\n",
      "Production 0.646\n",
      "Consumption 0.041\n",
      "Profit: 0.118\n",
      "Since the labour supply does not match with consumption, \n",
      " then Warlas' law does not hold\n"
     ]
    }
   ],
   "source": [
    "def general_equilibrium3(arglist):\n",
    "    m = arglist[0] \n",
    "    p = arglist[1] \n",
    "    t = arglist[2] # Tax Rate\n",
    "    \n",
    "    out = np.zeros(3)\n",
    "    \n",
    "    out[0] = 1/(p+t) - m**(1/0.2) # f.o.c. for consumer from utility function\n",
    "    out[1] = p*0.7*m**(-0.3) -1 # f.o.c. for firm from produciton function\n",
    "    \n",
    "    profit = x[1]*x[0]**0.7-x[0]\n",
    "    \n",
    "    c = (profit + m)/(p+t)\n",
    "    \n",
    "    out[2] = t*c-p # Constraint to set t so that t*c = p\n",
    "    \n",
    "    return out\n",
    "\n",
    "res = root(general_equilibrium3,np.ones(3))\n",
    "x = res['x']\n",
    "profit = x[1]*x[0]**0.7-x[0]\n",
    "\n",
    "print(f\"Labour supply: {x[0]:.3f}\")\n",
    "print(f\"Price: {x[1]:.3f}\")\n",
    "print(f\"Production {x[0]**0.7:.3f}\")\n",
    "print(f\"Consumption {(profit+x[0])/(x[1]+x[2]):.3f}\")\n",
    "print(f\"Profit: {profit:.3f}\")\n",
    "print(\"Since the labour supply does not match with consumption, \\n then Warlas' law does not hold\")"
   ]
  },
  {
   "cell_type": "markdown",
   "id": "505475d7",
   "metadata": {},
   "source": [
    "So the numbers don't add up here, because the goverment needs more than the full production. Let us reduce the government need to 0.1 units."
   ]
  },
  {
   "cell_type": "code",
   "execution_count": 42,
   "id": "1b225b66",
   "metadata": {},
   "outputs": [
    {
     "name": "stdout",
     "output_type": "stream",
     "text": [
      "Labour supply: 0.915\n",
      "Price: 1.391\n",
      "Tax: 0.166\n",
      "Production: 0.940\n",
      "Profit: 0.392\n",
      "Consumption: 0.840\n"
     ]
    }
   ],
   "source": [
    "def general_equilibrium3b(arglist):\n",
    "    \n",
    "    m = arglist[0] \n",
    "    p = arglist[1] \n",
    "    t = arglist[2]\n",
    "    \n",
    "    out = np.zeros(3)\n",
    "    \n",
    "    out[0] = 1/(p+t) - m**(1/0.2) # f.o.c. for consumer\n",
    "    out[1] = p*0.7*m**(-0.3) -1 # f.o.c. for firm\n",
    "    \n",
    "    profit = p*m**0.7-m\n",
    "    c = (profit + m)/(p+t)\n",
    "    \n",
    "    out[2] = t*c-p/10\n",
    "    \n",
    "    return out\n",
    "\n",
    "res = root(general_equilibrium3b,np.ones(3))\n",
    "x = res['x']\n",
    "profit = x[1]*x[0]**0.7-x[0]\n",
    "\n",
    "print(f\"Labour supply: {x[0]:.3f}\")\n",
    "print(f\"Price: {x[1]:.3f}\")\n",
    "print(f\"Tax: {x[2]:.3f}\")\n",
    "print(f\"Production: {x[0]**0.7:.3f}\")\n",
    "print(f\"Profit: {profit:.3f}\")\n",
    "print(f\"Consumption: {(profit+x[0])/(x[1]+x[2]):.3f}\")\n"
   ]
  },
  {
   "cell_type": "markdown",
   "id": "b3691550",
   "metadata": {},
   "source": [
    "So, there is some distortion in this model. The labor supply is reduced from 0.935 to 0.915 because of taxation."
   ]
  },
  {
   "cell_type": "code",
   "execution_count": 43,
   "id": "9a69bd2d",
   "metadata": {},
   "outputs": [
    {
     "name": "stdout",
     "output_type": "stream",
     "text": [
      "Utily when consumption = 0.954 and labour = 0.935 is 0.8426427711583098\n",
      "Utily when consumption = 0.840 and labour = 0.915 is 0.7421917892990391\n"
     ]
    }
   ],
   "source": [
    "def utility(c,m):\n",
    "    return c - 1/(1+1/0.2)*m**(1+1/0.2)\n",
    "\n",
    "print(f'Utily when consumption = 0.954 and labour = 0.935 is {utility(0.954,0.935)}')\n",
    "print(f'Utily when consumption = 0.840 and labour = 0.915 is {utility(0.840,0.915)}')"
   ]
  },
  {
   "cell_type": "markdown",
   "id": "64a3b435",
   "metadata": {},
   "source": [
    "So we see that the utility of the consumer (which is the same as the compensating variation or the equivalent variation or the consumer surplus) is falling by a tiny bit more than the government need. This is the deadweight loss of taxation."
   ]
  },
  {
   "cell_type": "markdown",
   "id": "04f612eb",
   "metadata": {},
   "source": [
    "##### Problem 2d\n",
    "Improve on the model from problem (c) by letting the government size be $G$ (instead of 1 as in the model). Let the government be useful to the consumer by adding a term $G$ to the utility function. Try to figure out the utility reduction for the consumer as a function of the government size and make a plot of this."
   ]
  },
  {
   "cell_type": "code",
   "execution_count": 45,
   "id": "23b40ddd",
   "metadata": {},
   "outputs": [
    {
     "name": "stdout",
     "output_type": "stream",
     "text": [
      "    fjac: array([[-0.75988065, -0.08362665, -0.64466114],\n",
      "       [ 0.394948  , -0.84706962, -0.35565312],\n",
      "       [ 0.51633079,  0.52486154, -0.67669999]])\n",
      "     fun: array([-4.90190111e-11, -1.00031095e-12,  1.32025751e-10])\n",
      " message: 'The solution converged.'\n",
      "    nfev: 14\n",
      "     qtf: array([-2.28479079e-08, -2.84181359e-08, -5.05983400e-08])\n",
      "       r: array([ 3.60656448,  0.09316352, -0.13610338, -0.84595962, -0.38572647,\n",
      "       -0.64269814])\n",
      "  status: 1\n",
      " success: True\n",
      "       x: array([0.91528349, 1.39113299, 0.16562768])\n"
     ]
    },
    {
     "data": {
      "text/plain": [
       "[]"
      ]
     },
     "execution_count": 45,
     "metadata": {},
     "output_type": "execute_result"
    },
    {
     "data": {
      "image/png": "[encoded data removed]",
      "text/plain": [
       "<Figure size 576x432 with 1 Axes>"
      ]
     },
     "metadata": {},
     "output_type": "display_data"
    }
   ],
   "source": [
    "#So we make the equation system a function of government size.\n",
    "def general_equilibrium4(dep, G):\n",
    "    \n",
    "    m = dep[0] \n",
    "    p = dep[1] \n",
    "    t = dep[2] \n",
    "    out = np.zeros(3)\n",
    "    \n",
    "    out[0] = 1/(p+t) - m**(1/0.2) # f.o.c. for consumer\n",
    "    out[1] = p*0.7*m**(-0.3) -1 # f.o.c. for firm\n",
    "    \n",
    "    profit = p*m**0.7-m\n",
    "    c = (profit + m)/(p+t)\n",
    "    \n",
    "    # The only change is in the equation below    \n",
    "    out[2] = t*c-p*G\n",
    "    \n",
    "    return out\n",
    "\n",
    "res= root(general_equilibrium4,np.ones(3),args=0.1)\n",
    "print(res)\n",
    "\n",
    "govsizes = np.linspace(0,0.8,100)\n",
    "utilityloss = np.zeros(100)\n",
    "\n",
    "for i in range(100):\n",
    "    res = root(general_equilibrium4,np.ones(3),args=govsizes[i])\n",
    "    x = res['x']\n",
    "    profit = x[1]*x[0]**0.7-x[0]\n",
    "    c = (profit+x[0])/(x[1]+x[2])\n",
    "    if i== 0:\n",
    "        utilityloss[i] = 0\n",
    "        baseutility = utility(c,x[0])\n",
    "    else:\n",
    "        utilityloss[i] = utility(c,x[0])-baseutility\n",
    "\n",
    "plt.figure(figsize = (8, 6))\n",
    "plt.plot(govsizes,utilityloss, color = 'Blue', label = \"Utility\")\n",
    "plt.plot(govsizes,utilityloss + govsizes, color = 'Orange', label = \"Utility after increase in taxes\")\n",
    "plt.xlabel('Amount of tax imposed by government(?)')\n",
    "plt.ylabel('Utility loss')\n",
    "plt.title('Imposition of Tax vs. Utility loss')\n",
    "plt.legend(loc = 'upper right') \n",
    "plt.plot()"
   ]
  },
  {
   "cell_type": "markdown",
   "id": "edb36a00",
   "metadata": {},
   "source": [
    "So the orange line is the deadweight loss of taxation. It is very small for small taxes. It is also small in this model because the labor supply is quite inelastic."
   ]
  },
  {
   "cell_type": "markdown",
   "id": "e8016b33",
   "metadata": {},
   "source": [
    "##### Problem 2e\n",
    "(Pollution and Pigou taxes.) Let the firm produce pollution r in addition to consumption goods. Let $r$ be equal to $c$ In the utility function, add a term $-0.5 \\times r$, but assume that consumers do not take into account this term when choosing consumption. (This does not make sense for consumers, but: Imagine that there were 1000 identical consumers. The model would then be almost exactly the same, except that pollution would almost completely be determined by the consumption of the others. So in this context, it makes sense that the consumer disregards the\n",
    "pollution when deciding upon consumption.) All in all, this means that the consumer\n",
    "decision problem is exactly as before, but that when we use the utility function to measure welfare, consumers will be worse off because of pollution. Redo point d. with this model.\n",
    "\n",
    "- Christian's comment: So this is very easy, since the pollution does not affect behavior, we can just use the same as before, we just need to adjust the utility function in the welfare assessment. We specify this so that it is production that pollutes. So pollution is given by (c + govsize)"
   ]
  },
  {
   "cell_type": "code",
   "execution_count": 46,
   "id": "bb3abfd5",
   "metadata": {},
   "outputs": [
    {
     "data": {
      "image/png": "[encoded data removed]",
      "text/plain": [
       "<Figure size 576x432 with 1 Axes>"
      ]
     },
     "metadata": {},
     "output_type": "display_data"
    }
   ],
   "source": [
    "govsizes = np.linspace(0,0.8,100)\n",
    "utilityloss = np.zeros(100)\n",
    "\n",
    "for i in range(100):\n",
    "    res = root(general_equilibrium4,np.ones(3),args=govsizes[i])\n",
    "    x = res['x']\n",
    "    profit = x[1]*x[0]**0.7-x[0]\n",
    "    c = (profit+x[0])/(x[1]+x[2])\n",
    "    \n",
    "    if i==0:\n",
    "        utilityloss[i] = 0\n",
    "        baseutility = utility(c,x[0]) - 0.5 * (c+govsizes[i])\n",
    "        \n",
    "    else:\n",
    "        utilityloss[i] = utility(c,x[0])- 0.5 * (c+govsizes[i]) -baseutility\n",
    "\n",
    "        \n",
    "plt.figure(figsize = (8, 6))\n",
    "plt.plot(govsizes,utilityloss, label = \"Utility\")\n",
    "plt.plot(govsizes,utilityloss+govsizes, label = \"Utility after taxes\")\n",
    "plt.xlabel('Amount of tax imposed by government(?)')\n",
    "plt.ylabel('Utility loss')\n",
    "plt.title('Imposition of Tax vs. Utility loss')\n",
    "plt.legend(loc = 'upper right') \n",
    "plt.legend() \n",
    "plt.show()"
   ]
  },
  {
   "cell_type": "markdown",
   "id": "31d9b284",
   "metadata": {},
   "source": [
    "So we see that the deadweight loss of taxation is smallest for a tax of around 0.5.\n",
    "\n",
    "As Christian said in class: The reason for this is that production and consumption is inititally too high. Consumers would be better off by enjoying a life with less consumption and more leisure. In this case, the tax pushes them in the right direction."
   ]
  },
  {
   "cell_type": "code",
   "execution_count": null,
   "id": "791d3981",
   "metadata": {},
   "outputs": [],
   "source": []
  }
 ],
 "metadata": {
  "kernelspec": {
   "display_name": "Python 3 (ipykernel)",
   "language": "python",
   "name": "python3"
  },
  "language_info": {
   "codemirror_mode": {
    "name": "ipython",
    "version": 3
   },
   "file_extension": ".py",
   "mimetype": "text/x-python",
   "name": "python",
   "nbconvert_exporter": "python",
   "pygments_lexer": "ipython3",
   "version": "3.9.7"
  }
 },
 "nbformat": 4,
 "nbformat_minor": 5
}
