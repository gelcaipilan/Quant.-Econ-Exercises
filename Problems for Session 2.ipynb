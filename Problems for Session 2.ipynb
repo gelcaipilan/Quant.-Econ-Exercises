{
 "cells": [
  {
   "cell_type": "code",
   "execution_count": 1,
   "id": "4e15caac",
   "metadata": {},
   "outputs": [],
   "source": [
    "import numpy as np\n",
    "import matplotlib as plt\n",
    "import matplotlib.pyplot as plt\n",
    "import seaborn as sns"
   ]
  },
  {
   "cell_type": "markdown",
   "id": "8274991d",
   "metadata": {},
   "source": [
    "# Problem 1 "
   ]
  },
  {
   "cell_type": "markdown",
   "id": "fb06f85d",
   "metadata": {},
   "source": [
    "#### a.) Create an array with even numbers going from 2 up to and including 48. Make this array a (4x6)-array. Print the array. "
   ]
  },
  {
   "cell_type": "code",
   "execution_count": 2,
   "id": "b82b8296",
   "metadata": {},
   "outputs": [
    {
     "name": "stdout",
     "output_type": "stream",
     "text": [
      "[[ 2  4  6  8 10 12]\n",
      " [14 16 18 20 22 24]\n",
      " [26 28 30 32 34 36]\n",
      " [38 40 42 44 46 48]]\n"
     ]
    }
   ],
   "source": [
    "#Let A be the 4 by 6 array, that is 4 rows and 6 columns\n",
    "A = np.array(range(2,50,2), ndmin = 2)\n",
    "A_reshape = np.reshape(A,(4,6))\n",
    "print(A_reshape)"
   ]
  },
  {
   "cell_type": "markdown",
   "id": "28f4e756",
   "metadata": {},
   "source": [
    "Try to transpose the array (Flipping it around the diagonal). "
   ]
  },
  {
   "cell_type": "code",
   "execution_count": 3,
   "id": "73062255",
   "metadata": {},
   "outputs": [
    {
     "name": "stdout",
     "output_type": "stream",
     "text": [
      "[[ 2 14 26 38]\n",
      " [ 4 16 28 40]\n",
      " [ 6 18 30 42]\n",
      " [ 8 20 32 44]\n",
      " [10 22 34 46]\n",
      " [12 24 36 48]]\n"
     ]
    }
   ],
   "source": [
    "A_Transpose = np.transpose(A_reshape)\n",
    "print(A_Transpose)"
   ]
  },
  {
   "cell_type": "markdown",
   "id": "c33c1600",
   "metadata": {},
   "source": [
    "Reshape the array to an (8x3)-array, print it again, "
   ]
  },
  {
   "cell_type": "code",
   "execution_count": 4,
   "id": "4c7ab114",
   "metadata": {},
   "outputs": [
    {
     "name": "stdout",
     "output_type": "stream",
     "text": [
      "[[ 2 14 26]\n",
      " [38  4 16]\n",
      " [28 40  6]\n",
      " [18 30 42]\n",
      " [ 8 20 32]\n",
      " [44 10 22]\n",
      " [34 46 12]\n",
      " [24 36 48]]\n"
     ]
    }
   ],
   "source": [
    "A_Transpose_reshape = np.reshape(A_Transpose, (8,3))\n",
    "print(A_Transpose_reshape)"
   ]
  },
  {
   "cell_type": "markdown",
   "id": "c2be6135",
   "metadata": {},
   "source": [
    "transpose it, flipping it back to (4x6)-array and printing again. "
   ]
  },
  {
   "cell_type": "code",
   "execution_count": 5,
   "id": "99faa8d0",
   "metadata": {},
   "outputs": [
    {
     "name": "stdout",
     "output_type": "stream",
     "text": [
      "[[ 2 38 28 18  8 44]\n",
      " [34 24 14  4 40 30]\n",
      " [20 10 46 36 26 16]\n",
      " [ 6 42 32 22 12 48]]\n"
     ]
    }
   ],
   "source": [
    "A_reshape_Transpose = np.transpose(A_Transpose_reshape)\n",
    "\n",
    "A = A_reshape_Transpose.reshape(4,6) #Alternatively, np.reshape(A_reshape_transpose, (4,6))\n",
    "\n",
    "print(A)"
   ]
  },
  {
   "cell_type": "markdown",
   "id": "3423f532",
   "metadata": {},
   "source": [
    "#### b.) Make arrays consisting only of 0s and 1s and 5s that has the same shape as the last array from 1a."
   ]
  },
  {
   "cell_type": "code",
   "execution_count": 6,
   "id": "c9c4b52d",
   "metadata": {},
   "outputs": [
    {
     "name": "stdout",
     "output_type": "stream",
     "text": [
      "[[1 5 5 5 0 0]\n",
      " [0 1 5 5 0 0]\n",
      " [0 0 1 5 5 5]\n",
      " [0 0 0 1 5 5]]\n"
     ]
    }
   ],
   "source": [
    "B = np.array([[1,5,5,5,0,0],\n",
    "              [0,1,5,5,0,0],\n",
    "              [0,0,1,5,5,5],\n",
    "              [0,0,0,1,5,5]\n",
    "             ])\n",
    "print(B)"
   ]
  },
  {
   "cell_type": "code",
   "execution_count": 7,
   "id": "db040405",
   "metadata": {},
   "outputs": [
    {
     "name": "stdout",
     "output_type": "stream",
     "text": [
      "[[0 1 5 0 1 5]\n",
      " [0 1 5 0 1 5]\n",
      " [0 1 5 0 1 5]\n",
      " [0 1 5 0 1 5]]\n"
     ]
    }
   ],
   "source": [
    "#Alternative - 1\n",
    "B_alt = np.array([0,1,5])\n",
    "print(np.tile(B_alt,(4,2)))"
   ]
  },
  {
   "cell_type": "code",
   "execution_count": 8,
   "id": "68b998f9",
   "metadata": {},
   "outputs": [
    {
     "name": "stdout",
     "output_type": "stream",
     "text": [
      "[[0 0 0 0 0 0]\n",
      " [0 0 0 0 0 0]\n",
      " [0 0 0 0 0 0]\n",
      " [0 0 0 0 0 0]]\n"
     ]
    }
   ],
   "source": [
    "#Alternative - 2 (Preferred Way)\n",
    "\n",
    "B1 = np.zeros_like(A)\n",
    "print(B1)"
   ]
  },
  {
   "cell_type": "code",
   "execution_count": 9,
   "id": "a088d935",
   "metadata": {},
   "outputs": [
    {
     "name": "stdout",
     "output_type": "stream",
     "text": [
      "[[1 1 1 1 1 1]\n",
      " [1 1 1 1 1 1]\n",
      " [1 1 1 1 1 1]\n",
      " [1 1 1 1 1 1]]\n"
     ]
    }
   ],
   "source": [
    "#Alternative - 3 (Preferred Way)\n",
    "\n",
    "B2 = np.ones_like(A)\n",
    "print(B2)"
   ]
  },
  {
   "cell_type": "code",
   "execution_count": 10,
   "id": "6a29343a",
   "metadata": {},
   "outputs": [
    {
     "name": "stdout",
     "output_type": "stream",
     "text": [
      "[[5 5 5 5 5 5]\n",
      " [5 5 5 5 5 5]\n",
      " [5 5 5 5 5 5]\n",
      " [5 5 5 5 5 5]]\n"
     ]
    }
   ],
   "source": [
    "#Alternative - 4 (Preferred Way)\n",
    "\n",
    "B3 = np.full_like(A, 5)\n",
    "print(B3)"
   ]
  },
  {
   "cell_type": "markdown",
   "id": "91524aab",
   "metadata": {},
   "source": [
    "#### c.) Make a new array that only contains the even rows and the odd columns from the last array in 1a.\n",
    "\n",
    "source: https://towardsdatascience.com/slicing-numpy-arrays-like-a-ninja-e4910670ceb0"
   ]
  },
  {
   "cell_type": "code",
   "execution_count": 11,
   "id": "94bdfa7a",
   "metadata": {},
   "outputs": [
    {
     "name": "stdout",
     "output_type": "stream",
     "text": [
      "[[34 14 40]\n",
      " [ 6 32 12]]\n"
     ]
    }
   ],
   "source": [
    "C = A[1::2,::2]\n",
    "print(C)"
   ]
  },
  {
   "cell_type": "code",
   "execution_count": 12,
   "id": "e83e785e",
   "metadata": {},
   "outputs": [
    {
     "name": "stdout",
     "output_type": "stream",
     "text": [
      "[[34 14 40]\n",
      " [ 6 32 12]]\n"
     ]
    }
   ],
   "source": [
    "C1 = A[1:4:2,:7:2]\n",
    "print(C1)"
   ]
  },
  {
   "cell_type": "markdown",
   "id": "b96a80ba",
   "metadata": {},
   "source": [
    "#### d.) Create two bool arrays of length 4 and 6, and use these arrays to pick out a subset of the last array in 1a."
   ]
  },
  {
   "cell_type": "code",
   "execution_count": 13,
   "id": "abec1db7",
   "metadata": {},
   "outputs": [
    {
     "name": "stdout",
     "output_type": "stream",
     "text": [
      "[False  True False  True]\n"
     ]
    }
   ],
   "source": [
    "firstbool = np.array([0,1,False,5], dtype = bool)\n",
    "print(firstbool)"
   ]
  },
  {
   "cell_type": "code",
   "execution_count": 14,
   "id": "ff88c1a4",
   "metadata": {},
   "outputs": [
    {
     "name": "stdout",
     "output_type": "stream",
     "text": [
      "[ True False  True  True  True False]\n"
     ]
    }
   ],
   "source": [
    "secondbool = np.array([True,None,'False',3,-1,0], dtype = bool)\n",
    "print(secondbool)"
   ]
  },
  {
   "cell_type": "code",
   "execution_count": 15,
   "id": "6ded2525",
   "metadata": {},
   "outputs": [
    {
     "name": "stdout",
     "output_type": "stream",
     "text": [
      "[[34 14  4 40]\n",
      " [ 6 32 22 12]]\n"
     ]
    }
   ],
   "source": [
    "index = A[firstbool,:]\n",
    "subset = index[:,secondbool]\n",
    "print(subset)"
   ]
  },
  {
   "cell_type": "markdown",
   "id": "c0b4836c",
   "metadata": {},
   "source": [
    "#### e.) Figure out row-wise sums and cumulative sums from the last array in 2a. Figure out the columns-specific maxima and minima."
   ]
  },
  {
   "cell_type": "code",
   "execution_count": 16,
   "id": "4f651651",
   "metadata": {},
   "outputs": [
    {
     "name": "stdout",
     "output_type": "stream",
     "text": [
      "Total sum of the entries in A: 600\n",
      "Total sum of the matrix in columns: [ 62 114 120  80  86 138]\n",
      "Total sum of the matrix in rows: [138 146 154 162]\n",
      "Maximum entry per column: [34 42 46 36 40 48]\n",
      "Minimum entry per column: [ 2 10 14  4  8 16]\n",
      "Maximum entry per row: [44 40 46 48]\n",
      "Minimum entry per column: [ 2  4 10  6]\n",
      "Total cumulative sum in columns: \n",
      "  [[  2  38  28  18   8  44]\n",
      " [ 36  62  42  22  48  74]\n",
      " [ 56  72  88  58  74  90]\n",
      " [ 62 114 120  80  86 138]]\n",
      "Total cumulative sum in rows: \n",
      " [[  2  40  68  86  94 138]\n",
      " [ 34  58  72  76 116 146]\n",
      " [ 20  30  76 112 138 154]\n",
      " [  6  48  80 102 114 162]]\n"
     ]
    }
   ],
   "source": [
    "print('Total sum of the entries in A:', np.sum(A))\n",
    "print('Total sum of the matrix in columns:', np.sum(A,0)) \n",
    "print('Total sum of the matrix in rows:', np.sum(A,1)) \n",
    "print('Maximum entry per column:', np.amax(A,0))\n",
    "print('Minimum entry per column:', np.amin(A,0))\n",
    "print('Maximum entry per row:', np.amax(A,1))\n",
    "print('Minimum entry per column:', np.amin(A,1))\n",
    "print('Total cumulative sum in columns: \\n ', np.cumsum(A,0))\n",
    "print('Total cumulative sum in rows: \\n', np.cumsum(A,1))"
   ]
  },
  {
   "cell_type": "markdown",
   "id": "12934ad5",
   "metadata": {},
   "source": [
    "#### f.) Based on the last array in 1a, make a new larger array by tiling the array 3 times horisontally and 4 times vertically."
   ]
  },
  {
   "cell_type": "code",
   "execution_count": 17,
   "id": "c687f278",
   "metadata": {},
   "outputs": [
    {
     "name": "stdout",
     "output_type": "stream",
     "text": [
      "[[ 2 38 28 18  8 44]\n",
      " [34 24 14  4 40 30]\n",
      " [20 10 46 36 26 16]\n",
      " [ 6 42 32 22 12 48]\n",
      " [ 2 38 28 18  8 44]\n",
      " [34 24 14  4 40 30]\n",
      " [20 10 46 36 26 16]\n",
      " [ 6 42 32 22 12 48]\n",
      " [ 2 38 28 18  8 44]\n",
      " [34 24 14  4 40 30]\n",
      " [20 10 46 36 26 16]\n",
      " [ 6 42 32 22 12 48]\n",
      " [ 2 38 28 18  8 44]\n",
      " [34 24 14  4 40 30]\n",
      " [20 10 46 36 26 16]\n",
      " [ 6 42 32 22 12 48]]\n"
     ]
    }
   ],
   "source": [
    "F = np.vstack((A,A,A,A))\n",
    "print(F)\n"
   ]
  },
  {
   "cell_type": "code",
   "execution_count": 18,
   "id": "e837a763",
   "metadata": {},
   "outputs": [
    {
     "name": "stdout",
     "output_type": "stream",
     "text": [
      "[[ 2 38 28 18  8 44  2 38 28 18  8 44  2 38 28 18  8 44]\n",
      " [34 24 14  4 40 30 34 24 14  4 40 30 34 24 14  4 40 30]\n",
      " [20 10 46 36 26 16 20 10 46 36 26 16 20 10 46 36 26 16]\n",
      " [ 6 42 32 22 12 48  6 42 32 22 12 48  6 42 32 22 12 48]]\n"
     ]
    }
   ],
   "source": [
    "F2 = np.hstack((A,A,A))\n",
    "print(F2)"
   ]
  },
  {
   "cell_type": "code",
   "execution_count": 19,
   "id": "ff4ef1ae",
   "metadata": {},
   "outputs": [
    {
     "name": "stdout",
     "output_type": "stream",
     "text": [
      "[[ 2 38 28 18  8 44  2 38 28 18  8 44  2 38 28 18  8 44  2 38 28 18  8 44]\n",
      " [34 24 14  4 40 30 34 24 14  4 40 30 34 24 14  4 40 30 34 24 14  4 40 30]\n",
      " [20 10 46 36 26 16 20 10 46 36 26 16 20 10 46 36 26 16 20 10 46 36 26 16]\n",
      " [ 6 42 32 22 12 48  6 42 32 22 12 48  6 42 32 22 12 48  6 42 32 22 12 48]\n",
      " [ 2 38 28 18  8 44  2 38 28 18  8 44  2 38 28 18  8 44  2 38 28 18  8 44]\n",
      " [34 24 14  4 40 30 34 24 14  4 40 30 34 24 14  4 40 30 34 24 14  4 40 30]\n",
      " [20 10 46 36 26 16 20 10 46 36 26 16 20 10 46 36 26 16 20 10 46 36 26 16]\n",
      " [ 6 42 32 22 12 48  6 42 32 22 12 48  6 42 32 22 12 48  6 42 32 22 12 48]\n",
      " [ 2 38 28 18  8 44  2 38 28 18  8 44  2 38 28 18  8 44  2 38 28 18  8 44]\n",
      " [34 24 14  4 40 30 34 24 14  4 40 30 34 24 14  4 40 30 34 24 14  4 40 30]\n",
      " [20 10 46 36 26 16 20 10 46 36 26 16 20 10 46 36 26 16 20 10 46 36 26 16]\n",
      " [ 6 42 32 22 12 48  6 42 32 22 12 48  6 42 32 22 12 48  6 42 32 22 12 48]]\n"
     ]
    }
   ],
   "source": [
    "F3 = np.tile(A,(3,4))\n",
    "print(F3)"
   ]
  },
  {
   "cell_type": "markdown",
   "id": "ba8c01d3",
   "metadata": {},
   "source": [
    "# Problem 2 - (A partial equilibrium model - a competetive market).\n",
    "\n",
    "This classic model shows how prices and quantities are determined in a market where both buyers and sellers are pricetakers (that is, they take the price as given and adjust their demand or supply to the going price). The equilibrium price is the only price that equates demand and supply."
   ]
  },
  {
   "cell_type": "markdown",
   "id": "c8454881",
   "metadata": {},
   "source": [
    "#### a.) We consider a competetive market with a demand function p=4-0.2x and a supply function p=2+0.1x. Make a nice graph where you find the equilibrium price and quantity. Also implement the solution in an equation solver (for example the one from the video lecture, but without all the output!)."
   ]
  },
  {
   "cell_type": "code",
   "execution_count": 20,
   "id": "0e3f597a",
   "metadata": {},
   "outputs": [],
   "source": [
    "def demand(x):\n",
    "    d_price = 4 - (0.2*x)\n",
    "    return d_price\n",
    "\n",
    "def supply(x):\n",
    "    s_price = 2 + (0.1*x)\n",
    "    return s_price\n",
    "\n"
   ]
  },
  {
   "cell_type": "code",
   "execution_count": 21,
   "id": "31215704",
   "metadata": {},
   "outputs": [],
   "source": [
    "quantity = np.linspace(0,10,1000)\n",
    "y = demand(quantity)\n",
    "ys = supply(quantity)"
   ]
  },
  {
   "cell_type": "code",
   "execution_count": 22,
   "id": "06f45700",
   "metadata": {},
   "outputs": [
    {
     "data": {
      "text/plain": [
       "<matplotlib.legend.Legend at 0x7f83302ab820>"
      ]
     },
     "execution_count": 22,
     "metadata": {},
     "output_type": "execute_result"
    },
    {
     "data": {
      "image/png": "[encoded data removed]",
      "text/plain": [
       "<Figure size 432x288 with 1 Axes>"
      ]
     },
     "metadata": {},
     "output_type": "display_data"
    }
   ],
   "source": [
    "plt.style.use('seaborn-whitegrid')\n",
    "plt.plot(quantity, y, 'b', label = \"Demand Function\")\n",
    "plt.plot(quantity, ys, 'r', label = 'Supply Function')\n",
    "plt.legend(loc = \"upper right\")"
   ]
  },
  {
   "cell_type": "code",
   "execution_count": 23,
   "id": "25639d26",
   "metadata": {},
   "outputs": [],
   "source": [
    "def our_bisection_solver(tobesolved,startp1, startp2, convcrit):\n",
    "    fval1 = tobesolved(startp1)\n",
    "    fval2 = tobesolved(startp2)\n",
    "\n",
    "    if startp1 == startp2:\n",
    "        print(\"You need to supply two different starting values\")\n",
    "    elif fval1==0:\n",
    "        print(f\"There is a solution at {startp1}\")\n",
    "    elif fval2==0:\n",
    "        print(f\"There is a solution at {startp2}\")\n",
    "    elif ((fval1 < 0) & (fval2 < 0)) | ((fval1 > 0) & (fval2 > 0)):\n",
    "        print(\"The function value must have different sign at the two starting values\")        \n",
    "    else:\n",
    "        if startp1 < startp2:\n",
    "            lower=startp1\n",
    "            upper=startp2\n",
    "            fval_lower=fval1\n",
    "        else:\n",
    "            lower=startp2\n",
    "            upper=startp1\n",
    "            fval_lower=fval2\n",
    "        i=0\n",
    "        #The Algorithm \n",
    "        while (upper-lower>convcrit):\n",
    "            i+=1\n",
    "            trial = (lower+upper)/2\n",
    "            result = tobesolved(trial)\n",
    "            if (result*fval_lower)>0:\n",
    "                lower=trial\n",
    "            else:\n",
    "                upper=trial\n",
    "        return (lower+upper)/2"
   ]
  },
  {
   "cell_type": "markdown",
   "id": "a8b38d73",
   "metadata": {},
   "source": [
    "From his solution set he said, we must make a \"price difference\" function, that is the demand price given the quantity demanded and the supply price given the quantity supplied. We need some function that should be zero at the equilibrium, and we set up the solver to find the equilibrium quantity. (NOTE: This does not correspond to the way we usually think about this. In a way it would be more intuitive to search for the equilibrium price and make a function for the difference between supply and demand at a given price)"
   ]
  },
  {
   "cell_type": "code",
   "execution_count": 24,
   "id": "67333e12",
   "metadata": {},
   "outputs": [],
   "source": [
    "def price_difference(quantity):\n",
    "    diff = demand(quantity) - supply(quantity)\n",
    "    return diff"
   ]
  },
  {
   "cell_type": "code",
   "execution_count": 25,
   "id": "a0b5bdff",
   "metadata": {},
   "outputs": [
    {
     "name": "stdout",
     "output_type": "stream",
     "text": [
      "2.0\n"
     ]
    }
   ],
   "source": [
    "print(price_difference(0))"
   ]
  },
  {
   "cell_type": "code",
   "execution_count": 26,
   "id": "d7e38054",
   "metadata": {},
   "outputs": [
    {
     "name": "stdout",
     "output_type": "stream",
     "text": [
      "Quantity Demanded and Supplied at Equilibrium: 6.666666666678793\n",
      "Demand Price at Equilibrium: 2.6666666666642413\n",
      "Supply Price at Equilibrium: 2.6666666666678793\n"
     ]
    }
   ],
   "source": [
    "#Finding Equilibrium Quantity using the solver\n",
    "\n",
    "eq_quantity = our_bisection_solver(price_difference, 0, 10, 1e-10)\n",
    "\n",
    "#Demand price given the equilibrium quantity \n",
    "eq_price_demand = 4 - (0.2 * eq_quantity)\n",
    "\n",
    "#Supply price given the equilibrium quantity \n",
    "eq_price_supply = 2 + (0.1 * eq_quantity)\n",
    "\n",
    "print('Quantity Demanded and Supplied at Equilibrium: {}'.format(eq_quantity))\n",
    "print('Demand Price at Equilibrium: {}'.format(eq_price_demand))\n",
    "print('Supply Price at Equilibrium: {}'.format(eq_price_supply))"
   ]
  },
  {
   "cell_type": "markdown",
   "id": "b786119e",
   "metadata": {},
   "source": [
    "#### b.) Consider an increase in supply. Make two new supply functions, one that increases supply by one unit on the vertical axis and one that increases supply by one more unit on the horisontal axis. Interpret these changes and consider the effects on the equilibrium price and quantity graphically and using the solver."
   ]
  },
  {
   "cell_type": "code",
   "execution_count": 27,
   "id": "d4e21f6c",
   "metadata": {},
   "outputs": [],
   "source": [
    "def supply1(x):\n",
    "    #Vertical shift of a function is represented as f(x) + k if upward shift  and f(x) - k if downward shift\n",
    "    supply_1 = (2-1) + (0.1 * x)\n",
    "    return supply_1\n",
    "\n",
    "def supply2(x):\n",
    "    #Horizantal shift of a function is represented as f(x+k) if shift to the left while f(x-k) to the right\n",
    "    supply_2 = 2 + (0.1 * (x-1) )\n",
    "    return supply_2"
   ]
  },
  {
   "cell_type": "code",
   "execution_count": 28,
   "id": "c8890de6",
   "metadata": {},
   "outputs": [],
   "source": [
    "x = np.linspace(0,12,1000)\n",
    "ys1 = supply1(x)\n",
    "ys2 = supply2(x)"
   ]
  },
  {
   "cell_type": "code",
   "execution_count": 29,
   "id": "6145666f",
   "metadata": {},
   "outputs": [
    {
     "data": {
      "text/plain": [
       "Text(0, 0.5, 'Price')"
      ]
     },
     "execution_count": 29,
     "metadata": {},
     "output_type": "execute_result"
    },
    {
     "data": {
      "image/png": "[encoded data removed]",
      "text/plain": [
       "<Figure size 432x288 with 1 Axes>"
      ]
     },
     "metadata": {},
     "output_type": "display_data"
    }
   ],
   "source": [
    "#plt.style.use('seaborn-whitegrid')\n",
    "plt.plot(x, y, 'b', label = \"Demand Function\")\n",
    "plt.plot(x, ys, 'r', label = \"Supply Function\")\n",
    "plt.plot(x, ys1, 'g', label = \"A 1-unit downward shift in supply\")\n",
    "plt.plot(x, ys2, 'k', label = \"A 1-unit outward shift in supply\" )\n",
    "plt.legend(loc = \"upper right\")\n",
    "plt.xlabel(\"Quantity\")\n",
    "plt.ylabel(\"Price\")"
   ]
  },
  {
   "cell_type": "code",
   "execution_count": 30,
   "id": "507715bd",
   "metadata": {},
   "outputs": [],
   "source": [
    "def price_difference1(quantity):\n",
    "    diff1 = demand(quantity) - supply1(quantity)\n",
    "    return diff1\n",
    "\n",
    "def price_difference2(quantity):\n",
    "    diff2 = demand(quantity) - supply2(quantity)\n",
    "    return diff2"
   ]
  },
  {
   "cell_type": "code",
   "execution_count": 31,
   "id": "36b50b53",
   "metadata": {},
   "outputs": [
    {
     "name": "stdout",
     "output_type": "stream",
     "text": [
      "Quantity Demanded and Supplied at Equilibrium when supply shift 1-unit downwards: 9.999999999985448\n",
      "Quantity Demanded and Supplied at Equilibrium when supply shift 1-unit to the right: 6.999999999985448\n",
      "Demand Price at Equilibrium when supply shift 1-unit downwards: 2.0000000000029106\n",
      "Demand Price at Equilibrium when supply shift 1-unit to the right: 2.60000000000291\n"
     ]
    }
   ],
   "source": [
    "eq_quantity1 = our_bisection_solver(price_difference1, 0, 12, 1e-10)\n",
    "eq_quantity2 = our_bisection_solver(price_difference2, 0, 12, 1e-10)\n",
    "\n",
    "eq_price_demand1 = 4 - (0.2 * eq_quantity1)\n",
    "eq_price_demand2 = 4 - (0.2 * eq_quantity2)\n",
    "\n",
    "\n",
    "print('Quantity Demanded and Supplied at Equilibrium when supply shift 1-unit downwards: {}'.format(eq_quantity1))\n",
    "print('Quantity Demanded and Supplied at Equilibrium when supply shift 1-unit to the right: {}'.format(eq_quantity2))\n",
    "print('Demand Price at Equilibrium when supply shift 1-unit downwards: {}'.format(eq_price_demand1))\n",
    "print('Demand Price at Equilibrium when supply shift 1-unit to the right: {}'.format(eq_price_demand2))"
   ]
  },
  {
   "cell_type": "markdown",
   "id": "d950d832",
   "metadata": {},
   "source": [
    "#### c.) We will consider an increase in demand. Make two new demand functions, one that increases demand by one unit on the vertical axis and one that increases demand by one more unit on the horisontal axis. Interpret these changes and consider the effects on the equilibrium price and quantity graphically and using the solver."
   ]
  },
  {
   "cell_type": "code",
   "execution_count": 32,
   "id": "3d1cecff",
   "metadata": {},
   "outputs": [],
   "source": [
    "def demand1(x):\n",
    "    #An increase of 1-unit in demand vertically is represented by (4+1)\n",
    "    d_price1 = (4+1) - (0.2*x)\n",
    "    return d_price1\n",
    "\n",
    "def demand2(x):\n",
    "    #An increase of 1-unit in demand horizontally ((0.2*(x-1)))\n",
    "    d_price2 = 4 - (0.2*(x-1))\n",
    "    return d_price2"
   ]
  },
  {
   "cell_type": "code",
   "execution_count": 33,
   "id": "8ddc09b0",
   "metadata": {},
   "outputs": [],
   "source": [
    "x = np.linspace(0,12,1000)\n",
    "y1 = demand1(x)\n",
    "y2 = demand2(x)"
   ]
  },
  {
   "cell_type": "code",
   "execution_count": 34,
   "id": "6bab0bfc",
   "metadata": {},
   "outputs": [
    {
     "data": {
      "text/plain": [
       "Text(0, 0.5, 'Price')"
      ]
     },
     "execution_count": 34,
     "metadata": {},
     "output_type": "execute_result"
    },
    {
     "data": {
      "image/png": "[encoded data removed]",
      "text/plain": [
       "<Figure size 432x288 with 1 Axes>"
      ]
     },
     "metadata": {},
     "output_type": "display_data"
    }
   ],
   "source": [
    "#plt.style.use('seaborn-whitegrid')\n",
    "plt.plot(x, y, 'b', label = \"Demand Function\")\n",
    "plt.plot(x, ys, 'r', label = \"Supply Function\")\n",
    "plt.plot(x, y1, 'g', label = \"A 1-unit upward shift in demand\")\n",
    "plt.plot(x, y2, 'k', label = \"A 1-unit outward shift in supply\" )\n",
    "plt.legend(loc = \"upper right\")\n",
    "plt.xlabel(\"Quantity\")\n",
    "plt.ylabel(\"Price\")"
   ]
  },
  {
   "cell_type": "markdown",
   "id": "ea4e40f8",
   "metadata": {},
   "source": [
    "#### d.) In light of b. and c. consider the statement “supply changes move the price and quantity along the demand curve while demand changes move the price and quantity along the supply curve”. Is this correct?"
   ]
  },
  {
   "cell_type": "markdown",
   "id": "d3e6bc81",
   "metadata": {},
   "source": [
    "Yes, this is correct. If only the supply curve changes, then all equilibrium prices and quantities will be on the non-changing demand curve, and vice versa. While, if only the demand curve changes, then all equilibrium prices and quantities will be on the non-changing supply curve. "
   ]
  },
  {
   "cell_type": "markdown",
   "id": "fbceac30",
   "metadata": {},
   "source": [
    "#### e.) Consider a competetive market with a demand function p=a-0.2x and a supply function p=b+0.1x. Write a function that derives the price and quantity as a function of the parameters a and b. Graph the price and quantity as a function of a, keeping b fixed and graph the price and quantity as a function of b, keeping a fixed. \n"
   ]
  },
  {
   "cell_type": "markdown",
   "id": "adacd831",
   "metadata": {},
   "source": [
    "To answer this analytically: \n",
    "\n",
    "We have the following functions: (1) Demand Function $$  {p} = a - 0.2x $$ and (2) Supply Function $$ p = b + 0.1x $$ where p is price, a and b are parameters of the function, and x is quantity. To derive an expression for price and quantity in terms of a & b let the demand function equal to the supply function and solve for x. Mathematically, $$ Demand Function = Supply Function $$ $$ a - 0.2x = b + 0.1x $$ $$ a - b = 0.1x + 0.2x $$ $$ a - b = 0.3x $$ Therefore, $$ x,quantity = \\frac{a - b}{0.3}. $$ Now to solve for p, we first re-arrange 1 of the equations above and express it in terms of x. So re-arranging equation 2 will give us $$ p = b + 0.1x $$ $$ x = \\frac{p - b}{0.1}. $$ We know that, the demand function is $$ {p} = a - 0.2x $$ but $$ x = \\frac{p - b}{0.1} $$ Hence, $$ {p} = a - 0.2(\\frac{p - b}{0.1}) $$ $$ {p} = a - (\\frac{0.2p + 0.2b}{0.1}) $$ $$ {0.1p} = 0.1a - 0.2p + 0.2b $$ $$ 0.1p + 0.2p = 0.1a + 0.2b $$ $$ 0.3p = 0.1a + 0.2b $$ I.e, $$ p = \\frac{0.1a + 0.2b}{0.3} $$\n",
    "\n",
    "that is price and quantity as function of the parameters a and b, analytically. Meanwhile, to show this numerically we:"
   ]
  },
  {
   "cell_type": "code",
   "execution_count": 35,
   "id": "e600f54a",
   "metadata": {},
   "outputs": [],
   "source": [
    "def excessprice(quantity,a,b):\n",
    "    demand_function = a - (0.2*quantity)\n",
    "    supply_function = b + (0.1*quantity)\n",
    "    excess_price = demand_function - supply_function \n",
    "    return excess_price"
   ]
  },
  {
   "cell_type": "markdown",
   "id": "51eb0e83",
   "metadata": {},
   "source": [
    "Now, we modify our bisection solver where it takes the argument a & b: "
   ]
  },
  {
   "cell_type": "code",
   "execution_count": 36,
   "id": "5603ee18",
   "metadata": {},
   "outputs": [],
   "source": [
    "def our_bisection_solver_2(tobesolved, startp1, startp2, convcrit, a, b):\n",
    "    fval1 = tobesolved(startp1, a, b)\n",
    "    fval2 = tobesolved(startp2, a, b)\n",
    "    \n",
    "    if startp1 == startp2:\n",
    "        print(\"You need to supply two different starting values\")\n",
    "    elif fval1==0:\n",
    "        print(f\"There is a solution at {startp1}\")\n",
    "    elif fval2==0:\n",
    "        print(f\"There is a solution at {startp2}\")\n",
    "    elif ((fval1 < 0) & (fval2 < 0)) | ((fval1 > 0) & (fval2 > 0)):\n",
    "        print(\"The function value must have different sign at the two starting values\")        \n",
    "    else:\n",
    "        if startp1 < startp2:\n",
    "            lower=startp1\n",
    "            upper=startp2\n",
    "            fval_lower=fval1\n",
    "        else:\n",
    "            lower=startp2\n",
    "            upper=startp1\n",
    "            fval_lower=fval2\n",
    "        i=0\n",
    "        #The Algorithm\n",
    "        while (upper-lower>convcrit):\n",
    "            i+=1\n",
    "            trial = (lower+upper)/2\n",
    "            result = tobesolved(trial, a, b)\n",
    "            if (result*fval_lower)>0:\n",
    "                lower=trial\n",
    "            else:\n",
    "                upper=trial\n",
    "        return (lower+upper)/2\n",
    "    "
   ]
  },
  {
   "cell_type": "code",
   "execution_count": 37,
   "id": "91f8aca8",
   "metadata": {},
   "outputs": [],
   "source": [
    "def equilibrium(a,b):\n",
    "    equi_quantity = our_bisection_solver_2(excessprice, -10, 25, 1e-10, a, b)\n",
    "    equi_price = a - (0.2 * equi_quantity)\n",
    "    return (equi_quantity, equi_price)"
   ]
  },
  {
   "cell_type": "code",
   "execution_count": 38,
   "id": "f38f396e",
   "metadata": {},
   "outputs": [
    {
     "name": "stdout",
     "output_type": "stream",
     "text": [
      "Equilibrium price and quantity when a = 5 and b = 1: (13.333333333343944, 2.333333333331211)\n"
     ]
    }
   ],
   "source": [
    "print('Equilibrium price and quantity when a = 5 and b = 1: {}'.format(equilibrium(5,1)))"
   ]
  },
  {
   "cell_type": "code",
   "execution_count": 39,
   "id": "f807109f",
   "metadata": {},
   "outputs": [
    {
     "data": {
      "text/plain": [
       "Text(0.5, 0, 'Parameter a, when b is fixed at 1')"
      ]
     },
     "execution_count": 39,
     "metadata": {},
     "output_type": "execute_result"
    },
    {
     "data": {
      "image/png": "[encoded data removed]",
      "text/plain": [
       "<Figure size 432x288 with 1 Axes>"
      ]
     },
     "metadata": {},
     "output_type": "display_data"
    }
   ],
   "source": [
    "i = 0 \n",
    "myprice = np.zeros(5)\n",
    "myquantity = np.zeros(5)\n",
    "mya = np.zeros(5)\n",
    "\n",
    "for a in range(3,8):\n",
    "    mytuple = equilibrium(a,1)\n",
    "    myprice[i] = mytuple[0]\n",
    "    myquantity[i] = mytuple[1]\n",
    "    mya[i] = a\n",
    "    \n",
    "    i += 1\n",
    "    \n",
    "plt.plot(mya, myprice, \"b\", label = \"price\")\n",
    "plt.plot(mya, myquantity, \"r\", label = \"quantity\")\n",
    "plt.legend(loc = \"upper left\")\n",
    "plt.xlabel(\"Parameter a, when b is fixed at 1\")"
   ]
  },
  {
   "cell_type": "code",
   "execution_count": 40,
   "id": "47ce9a8f",
   "metadata": {},
   "outputs": [
    {
     "data": {
      "text/plain": [
       "Text(0.5, 0, 'Parameter b, when a is fixed at 5')"
      ]
     },
     "execution_count": 40,
     "metadata": {},
     "output_type": "execute_result"
    },
    {
     "data": {
      "image/png": "[encoded data removed]",
      "text/plain": [
       "<Figure size 432x288 with 1 Axes>"
      ]
     },
     "metadata": {},
     "output_type": "display_data"
    }
   ],
   "source": [
    "i = 0 \n",
    "myprice = np.zeros(5)\n",
    "myquantity = np.zeros(5)\n",
    "mya = np.zeros(5)\n",
    "\n",
    "for b in range(-1,4):\n",
    "    mytuple = equilibrium(5,b)\n",
    "    myprice[i] = mytuple[0]\n",
    "    myquantity[i] = mytuple[1]\n",
    "    mya[i] = a\n",
    "    \n",
    "    i += 1\n",
    "    \n",
    "plt.plot(mya, myprice, \"b\", label = \"price\")\n",
    "plt.plot(mya, myquantity, \"r\", label = \"quantity\")\n",
    "plt.legend(loc = \"upper left\")\n",
    "plt.xlabel(\"Parameter b, when a is fixed at 5\")"
   ]
  },
  {
   "cell_type": "markdown",
   "id": "2de7ef7c",
   "metadata": {},
   "source": [
    "# Problem 3 - (A partial equilibrium model with constant elasticities).\n",
    "\n",
    "An elasticity is a concept that is closely related to a derivative. The elasticity is the relative change in one variable as a consequence of the relative change in another variable. That if, if y=f(x), then the elasticity is f’(c) *(x/y). Sometimes it is useful to work with demand and supply functions with constant elasticities. A constant elasticity also means that log y is linear in log x (and the other way around). "
   ]
  },
  {
   "cell_type": "markdown",
   "id": "a79e5d54",
   "metadata": {},
   "source": [
    "#### a.) Verify graphically that the supply curve log p = 3 + 0.5* log x is the same as p = exp(3)*x^(1⁄2). This means that the elasticity of price with respect to quantity is (1⁄2), while the more natural concept of the elasticity of quantity with respect to price is 2."
   ]
  },
  {
   "cell_type": "code",
   "execution_count": 41,
   "id": "80fd7caa",
   "metadata": {},
   "outputs": [],
   "source": [
    "def supply_in_log(x):\n",
    "    logx = np.log(x)\n",
    "    logp = 3 + 0.5 * logx\n",
    "    return logp \n",
    "\n",
    "def supply_in_levels(x):\n",
    "    p = np.exp(3) * x ** (0.5)\n",
    "    return p \n",
    "\n"
   ]
  },
  {
   "cell_type": "code",
   "execution_count": 42,
   "id": "ea444eb4",
   "metadata": {},
   "outputs": [],
   "source": [
    "x = np.linspace(1,10,1000)\n",
    "logp = supply_in_log(x)\n",
    "p = supply_in_levels(x)"
   ]
  },
  {
   "cell_type": "code",
   "execution_count": 43,
   "id": "280feabe",
   "metadata": {},
   "outputs": [
    {
     "data": {
      "text/plain": [
       "<matplotlib.legend.Legend at 0x7f8340886400>"
      ]
     },
     "execution_count": 43,
     "metadata": {},
     "output_type": "execute_result"
    },
    {
     "data": {
      "image/png": "[encoded data removed]",
      "text/plain": [
       "<Figure size 432x288 with 1 Axes>"
      ]
     },
     "metadata": {},
     "output_type": "display_data"
    }
   ],
   "source": [
    "plt.plot(x,p,\"-r\",label=\"supply in levels\")\n",
    "plt.plot(np.exp(np.log(x)),np.exp(logp),\":g\", label=\"supply in logs\")\n",
    "plt.legend(loc=\"upper left\")"
   ]
  },
  {
   "cell_type": "markdown",
   "id": "8f959628",
   "metadata": {},
   "source": [
    "#### b.) Implement a demand curve with constant elasticity as well, say exp(6)*x^(-4). Make a shift in the demand curve (by changing the constant term, not the elasticity). Implement a ten percent increase in demand. Look at the changes. Is there a relationship between the supply elasticity and how the increased demand translates into higher prices and quantities? Show this in a graph!"
   ]
  },
  {
   "cell_type": "code",
   "execution_count": 44,
   "id": "e39ada77",
   "metadata": {},
   "outputs": [],
   "source": [
    "#Excess price before 10% increase in demand\n",
    "def excess_price(quantity): #tells us the difference in supply price and demand price\n",
    "    supply = np.exp(3) * quantity ** (0.5)\n",
    "    demand = np.exp(6) * quantity ** (-4)\n",
    "    return (supply - demand)"
   ]
  },
  {
   "cell_type": "code",
   "execution_count": 45,
   "id": "35ecdf37",
   "metadata": {},
   "outputs": [
    {
     "name": "stdout",
     "output_type": "stream",
     "text": [
      "Quantity at the current level (before 10% increase): 1.947734041063086\n",
      "Current Price: 28.031624894586656\n"
     ]
    }
   ],
   "source": [
    "q = our_bisection_solver(excess_price,1, 12, 1e-10)\n",
    "p = supply_in_levels(q)\n",
    "print('Quantity at the current level (before 10% increase): {}'.format(q))\n",
    "print('Current Price: {}'.format(p))"
   ]
  },
  {
   "cell_type": "markdown",
   "id": "f77783d2",
   "metadata": {},
   "source": [
    "we know that: $$ \\text{demand} = e^6 \\times x ^ {-4} \t\\rightleftharpoons x = (\\text{demand} - e^6)^4 $$\n",
    "So, a 10% increase in demand for a given price is mathematically expressed as: $$ x = 1.1 \\times (\\text{demand} \\times e^{-6})^4 = (1.1^\\frac{1}{4} \\times \\text{demand} \\times e^6)^4 $$"
   ]
  },
  {
   "cell_type": "code",
   "execution_count": 46,
   "id": "b3d3ff9a",
   "metadata": {},
   "outputs": [],
   "source": [
    "#Excess price after 10% increase in demand\n",
    "def excess_price2(quantity):\n",
    "    supply = np.exp(3) * quantity ** (0.5)\n",
    "    demand2 = np.exp(6) * (quantity / 1.1) ** (-4)\n",
    "    return (supply - demand2)"
   ]
  },
  {
   "cell_type": "code",
   "execution_count": 47,
   "id": "d1dd5483",
   "metadata": {},
   "outputs": [
    {
     "name": "stdout",
     "output_type": "stream",
     "text": [
      "Quantity level after a 10% increase in demand: 2.1199379650970513\n",
      "Current Price after a 10% increase in demand: 29.244555314426435\n"
     ]
    }
   ],
   "source": [
    "q2 = our_bisection_solver(excess_price2, 1, 12, 1e-10)\n",
    "p2 = supply_in_levels(q2)\n",
    "print('Quantity level after a 10% increase in demand: {}'.format(q2))\n",
    "print('Current Price after a 10% increase in demand: {}'.format(p2))"
   ]
  },
  {
   "cell_type": "code",
   "execution_count": 48,
   "id": "773005ca",
   "metadata": {},
   "outputs": [
    {
     "data": {
      "text/plain": [
       "(1.5, 3.0)"
      ]
     },
     "execution_count": 48,
     "metadata": {},
     "output_type": "execute_result"
    },
    {
     "data": {
      "image/png": "[encoded data removed]",
      "text/plain": [
       "<Figure size 432x288 with 1 Axes>"
      ]
     },
     "metadata": {},
     "output_type": "display_data"
    }
   ],
   "source": [
    "#Two show graphically\n",
    "x = np.linspace(0.9, 4, 1000)\n",
    "supply = supply_in_levels(x)\n",
    "demand = np.exp(6) * x ** (-4)\n",
    "demand2 = np.exp(6) * (x / 1.1) ** (-4)\n",
    "\n",
    "plt.plot(x, demand, \"-b\", label = \"demand\")\n",
    "plt.plot(x, supply, \"-r\", label = \"supply\")\n",
    "plt.plot(x, demand2, \"-g\", label = \"demand shifted by ten percent\")\n",
    "\n",
    "plt.legend(loc = \"upper right\")\n",
    "plt.xlabel(\"Quantity\")\n",
    "plt.ylabel(\"Price\")\n",
    "plt.ylim(0, 50)\n",
    "plt.xlim(1.5, 3)"
   ]
  },
  {
   "cell_type": "code",
   "execution_count": 49,
   "id": "5cebe273",
   "metadata": {},
   "outputs": [
    {
     "name": "stdout",
     "output_type": "stream",
     "text": [
      "Change in Quantity: 1.0884124425632442\n",
      "Change in Price: 1.0432700717279508\n",
      "Elasticity of supply: 2.0432700717279633\n"
     ]
    }
   ],
   "source": [
    "change_in_quantity = q2 / q\n",
    "change_in_price = p2 / p \n",
    "elasticity_of_supply = (1 - change_in_quantity) / (1 - change_in_price)\n",
    "print('Change in Quantity: {}'.format(change_in_quantity))\n",
    "print('Change in Price: {}'.format(change_in_price))\n",
    "print('Elasticity of supply: {}'.format(elasticity_of_supply))"
   ]
  },
  {
   "cell_type": "markdown",
   "id": "d36e325d",
   "metadata": {},
   "source": [
    "###### Follow up question: Does a supply elasticity of 2 mean that demand shocks affect the quantity twice as much as the price? \n",
    "\n",
    "Yes, this implies that a 10% increase in quantity demanded is caused by a less than 10% increase in price. To be more specific, in the problem a supply elasticity of 2 leads to an 8.8% change in quantity caused by a 4.4% increase in price. "
   ]
  },
  {
   "cell_type": "markdown",
   "id": "66d5be6c",
   "metadata": {},
   "source": [
    "#### c.) Keep the demand curve constant and implement a ten percent change in the supply. Is there a relationship between the demand elasticity and how increases in supply translate into lower prices and higher quantities. Show this in a graph!"
   ]
  },
  {
   "cell_type": "code",
   "execution_count": 50,
   "id": "eeb85e8a",
   "metadata": {},
   "outputs": [
    {
     "data": {
      "text/plain": [
       "(1.5, 3.0)"
      ]
     },
     "execution_count": 50,
     "metadata": {},
     "output_type": "execute_result"
    },
    {
     "data": {
      "image/png": "[encoded data removed]",
      "text/plain": [
       "<Figure size 432x288 with 1 Axes>"
      ]
     },
     "metadata": {},
     "output_type": "display_data"
    }
   ],
   "source": [
    "#Similar to 3b only that now demand is kept constant and supply change by 10% \n",
    "x = np.linspace(0.9,4,1000)\n",
    "\n",
    "supply = supply_in_levels(x)\n",
    "demand = np.exp(6) * x ** (-4) \n",
    "supply2 = np.exp(3) * (x/1.1) ** (0.5) #Similar derivation as demand\n",
    "\n",
    "plt.plot(x, demand, \"-b\", label=\"demand\")\n",
    "plt.plot(x, supply, \"-r\", label=\"supply\")\n",
    "plt.plot(x, supply2, \"-g\", label=\"supply shifted by ten percent\")\n",
    "plt.legend(loc=\"upper right\")\n",
    "plt.xlabel(\"Quantity\")\n",
    "plt.ylabel(\"Price\")\n",
    "plt.ylim(0, 50)\n",
    "plt.xlim(1.5,3)"
   ]
  },
  {
   "cell_type": "code",
   "execution_count": 51,
   "id": "572ad1cd",
   "metadata": {},
   "outputs": [
    {
     "data": {
      "text/plain": [
       "(1.5, 2.5)"
      ]
     },
     "execution_count": 51,
     "metadata": {},
     "output_type": "execute_result"
    },
    {
     "data": {
      "image/png": "[encoded data removed]",
      "text/plain": [
       "<Figure size 432x288 with 1 Axes>"
      ]
     },
     "metadata": {},
     "output_type": "display_data"
    }
   ],
   "source": [
    "#Upclose\n",
    "plt.plot(x, demand, \"-b\", label=\"demand\")\n",
    "plt.plot(x, supply, \"-r\", label=\"supply\")\n",
    "plt.plot(x, supply2, \"-g\", label=\"supply shifted by ten percent\")\n",
    "plt.legend(loc=\"upper right\")\n",
    "plt.xlabel(\"Quantity\")\n",
    "plt.ylabel(\"Price\")\n",
    "plt.ylim(20, 30)\n",
    "plt.xlim(1.5, 2.5)"
   ]
  },
  {
   "cell_type": "code",
   "execution_count": 52,
   "id": "fe8d9c71",
   "metadata": {},
   "outputs": [],
   "source": [
    "def excess_price3(quant):\n",
    "    supply = np.exp(3) * (quant/1.1) ** (0.5)\n",
    "    demand = np.exp(6) * (quant) ** (-4)\n",
    "    return (supply - demand)"
   ]
  },
  {
   "cell_type": "code",
   "execution_count": 53,
   "id": "78cfb831",
   "metadata": {},
   "outputs": [
    {
     "name": "stdout",
     "output_type": "stream",
     "text": [
      "Qunatity level as a result of a 10% shift in supply: 1.9684701877886255\n",
      "Price as a result of a 10% shift in supply: 26.869001282078724\n"
     ]
    }
   ],
   "source": [
    "q3 = our_bisection_solver(excess_price3, 1, 12, 1e-10)\n",
    "p3 = np.exp(3) * (q3/1.1) ** (0.5)\n",
    "\n",
    "print('Qunatity level as a result of a 10% shift in supply: {}'.format(q3))\n",
    "print('Price as a result of a 10% shift in supply: {}'.format(p3))"
   ]
  },
  {
   "cell_type": "code",
   "execution_count": 54,
   "id": "44e84a60",
   "metadata": {},
   "outputs": [],
   "source": [
    "#To calculate the change in quantity and price, we have to calculate the quantity before the shift in supply:\n",
    "\n",
    "def excess_price_before(quant):\n",
    "    supply = supply_in_levels(quant)\n",
    "    demand = np.exp(6) * (quant) ** (-4)\n",
    "    return (supply - demand)\n"
   ]
  },
  {
   "cell_type": "code",
   "execution_count": 55,
   "id": "319e1bf0",
   "metadata": {},
   "outputs": [
    {
     "name": "stdout",
     "output_type": "stream",
     "text": [
      "Qunatity levels before the shift in supply: 1.947734041063086\n",
      "Price before the shift in supply: 28.031624894586656\n"
     ]
    }
   ],
   "source": [
    "q_before = our_bisection_solver(excess_price_before, 1, 12, 1e-10)\n",
    "p_before = np.exp(3) * q_before ** (0.5)\n",
    "\n",
    "print('Qunatity levels before the shift in supply: {}'.format(q_before))\n",
    "print('Price before the shift in supply: {}'.format(p_before))\n"
   ]
  },
  {
   "cell_type": "code",
   "execution_count": 56,
   "id": "4ea41f02",
   "metadata": {},
   "outputs": [
    {
     "name": "stdout",
     "output_type": "stream",
     "text": [
      "Change in quantity: 1.0106462927116178\n",
      "Change in price: 0.958524572982123\n",
      "Elasticity of Demand: 3.8957624162086892\n"
     ]
    }
   ],
   "source": [
    "#Relative Changes\n",
    "\n",
    "change_in_quantity = q3 / q_before\n",
    "change_in_price = p3 / p_before \n",
    "elasticity_of_demand = (1 - change_in_price) / (change_in_quantity - 1)\n",
    "\n",
    "print('Change in quantity: {}'.format(change_in_quantity))\n",
    "print('Change in price: {}'.format(change_in_price))\n",
    "print('Elasticity of Demand: {}'.format(elasticity_of_demand))\n"
   ]
  },
  {
   "cell_type": "markdown",
   "id": "abf1b4d5",
   "metadata": {},
   "source": [
    "###### Follow Up Question:  And a demand elasticity of 1/4 means that a supply shock leads to a relative change in price that is 4 times as high as the relative change in quantity?"
   ]
  },
  {
   "cell_type": "markdown",
   "id": "0838a40f",
   "metadata": {},
   "source": [
    "Yes. A 1/4 elasticity in demand caused quantity to change by almost 11% due to an approx. 96% of increase in price. "
   ]
  },
  {
   "cell_type": "markdown",
   "id": "9fd55830",
   "metadata": {},
   "source": [
    "#### d.) Using a solver, do exercise 3b (without the graph) for different elasticities (many) - and make two graphs, one with the elasticity on the x-axis and the (relative) price change on the y-axis and one with the elasticity on the x-axis and the (relative) quantity change on the y-axis."
   ]
  },
  {
   "cell_type": "markdown",
   "id": "e15ea58f",
   "metadata": {},
   "source": [
    "3d and 3e are connected. Numerical Solutions are coded under 3e"
   ]
  },
  {
   "cell_type": "markdown",
   "id": "3efc94df",
   "metadata": {},
   "source": [
    "#### e.) Redo 3d, studying how the effects of supply changes depends on the demand elasticity."
   ]
  },
  {
   "cell_type": "code",
   "execution_count": 57,
   "id": "235c1920",
   "metadata": {},
   "outputs": [],
   "source": [
    "def excess_price_ab(quant, a, b):\n",
    "    supply = np.exp(3) * (quant) ** (a)\n",
    "    demand = np.exp(6) * (quant) ** (-b)\n",
    "    return (supply - demand)\n",
    "\n",
    "def excess_price_ab_increased_supply(quant, a, b):\n",
    "    supply = np.exp(3) * (quant/1.1) ** (a)\n",
    "    demand = np.exp(6) * (quant) ** (-b)\n",
    "    return (supply - demand)\n",
    "\n",
    "def excess_price_ab_increased_demand(quant,a,b):\n",
    "    supply = np.exp(3) * (quant) ** (a)\n",
    "    demand = np.exp(6) * (quant/1.1) ** (-b)\n",
    "    return (supply - demand)"
   ]
  },
  {
   "cell_type": "markdown",
   "id": "d058e987",
   "metadata": {},
   "source": [
    "First, let us keep the demand elasticity constant at 1, and change the supply elasticities. Then, increase the demand and see what happens to price and quantity as a consequence of the change in demand."
   ]
  },
  {
   "cell_type": "code",
   "execution_count": 58,
   "id": "b0d167bd",
   "metadata": {},
   "outputs": [
    {
     "data": {
      "text/plain": [
       "[<matplotlib.lines.Line2D at 0x7f834075f7f0>]"
      ]
     },
     "execution_count": 58,
     "metadata": {},
     "output_type": "execute_result"
    },
    {
     "data": {
      "image/png": "[encoded data removed]",
      "text/plain": [
       "<Figure size 432x288 with 1 Axes>"
      ]
     },
     "metadata": {},
     "output_type": "display_data"
    }
   ],
   "source": [
    "price_change = np.zeros(100)\n",
    "quant_change = np.zeros(100)\n",
    "supply_elasticity = np.linspace(0.5,7,100)\n",
    "\n",
    "for i in range(100):\n",
    "    q = our_bisection_solver_2(excess_price_ab, 1, 12, 1e-10, supply_elasticity[i], 1)\n",
    "    p = np.exp(3) * (q) ** (supply_elasticity[i])\n",
    "    q_new = our_bisection_solver_2(excess_price_ab_increased_demand, 1, 12, 1e-10, supply_elasticity[i], 1)\n",
    "    p_new = np.exp(3) * (q_new) ** (supply_elasticity[i])\n",
    "    \n",
    "    price_change[i]=(p_new-p)/p # relative changes, the problem did not really state that\n",
    "    quant_change[i]=(q_new-q)/q\n",
    "    \n",
    "plt.plot(supply_elasticity, price_change, '-k')\n",
    "plt.plot(supply_elasticity, quant_change, '-r')"
   ]
  },
  {
   "cell_type": "markdown",
   "id": "c3d65f83",
   "metadata": {},
   "source": [
    "The plot above suggest that the sum of the two relative responses are equal (as well as that the change in demand is equal to 10%). Therefore, the constant elasticity model with a demand elasticity of 1 translates as \"A 10% increase in demand will lead to a sum of 10% increase in price and quantity\". \n",
    "\n",
    "Alternatively, the code below will show the ratio of relative price to relative quantity changes is given by supply elasticity"
   ]
  },
  {
   "cell_type": "code",
   "execution_count": 59,
   "id": "20192284",
   "metadata": {},
   "outputs": [
    {
     "data": {
      "text/plain": [
       "[<matplotlib.lines.Line2D at 0x7f83208d7760>]"
      ]
     },
     "execution_count": 59,
     "metadata": {},
     "output_type": "execute_result"
    },
    {
     "data": {
      "image/png": "[encoded data removed]",
      "text/plain": [
       "<Figure size 432x288 with 1 Axes>"
      ]
     },
     "metadata": {},
     "output_type": "display_data"
    }
   ],
   "source": [
    "plt.plot(supply_elasticity, price_change/quant_change,'-k')\n",
    "plt.plot(supply_elasticity, supply_elasticity,'--g') # a 45 degree dashed line"
   ]
  },
  {
   "cell_type": "markdown",
   "id": "8c2ba049",
   "metadata": {},
   "source": [
    "Now below we vary the elasticity of demand, note though that it follows similar analogy as above. "
   ]
  },
  {
   "cell_type": "code",
   "execution_count": 60,
   "id": "03199083",
   "metadata": {},
   "outputs": [
    {
     "data": {
      "text/plain": [
       "[<matplotlib.lines.Line2D at 0x7f8353facd60>]"
      ]
     },
     "execution_count": 60,
     "metadata": {},
     "output_type": "execute_result"
    },
    {
     "data": {
      "image/png": "[encoded data removed]",
      "text/plain": [
       "<Figure size 432x288 with 1 Axes>"
      ]
     },
     "metadata": {},
     "output_type": "display_data"
    }
   ],
   "source": [
    "price_change = np.zeros(100)\n",
    "quant_change = np.zeros(100)\n",
    "demand_elasticity = np.linspace(0.6,7,100)\n",
    "\n",
    "for i in range(100):\n",
    "    q = our_bisection_solver_2(excess_price_ab, 1, 12, 1e-10, 1, demand_elasticity[i])\n",
    "    p = np.exp(3) * (q) ** (1)\n",
    "    q_new = our_bisection_solver_2(excess_price_ab_increased_supply, 1, 12, 1e-10, 1, demand_elasticity[i])\n",
    "    p_new = np.exp(3) * (q_new/1.1) ** (1)\n",
    "    \n",
    "    price_change[i]=(p_new-p)/p # relative changes, the problem did not really state that\n",
    "    quant_change[i]=(q_new-q)/q\n",
    "    \n",
    "plt.plot(demand_elasticity, -price_change, '-k')\n",
    "plt.plot(demand_elasticity, quant_change, '-r')"
   ]
  },
  {
   "cell_type": "markdown",
   "id": "73e92c03",
   "metadata": {},
   "source": [
    "Below shows that: When demand changes, the ratio of the relative changes in prices and quantities is determined by the elasticity"
   ]
  },
  {
   "cell_type": "code",
   "execution_count": 61,
   "id": "d12c6e88",
   "metadata": {},
   "outputs": [
    {
     "data": {
      "text/plain": [
       "[<matplotlib.lines.Line2D at 0x7f835401d790>]"
      ]
     },
     "execution_count": 61,
     "metadata": {},
     "output_type": "execute_result"
    },
    {
     "data": {
      "image/png": "[encoded data removed]",
      "text/plain": [
       "<Figure size 432x288 with 1 Axes>"
      ]
     },
     "metadata": {},
     "output_type": "display_data"
    }
   ],
   "source": [
    "plt.plot(demand_elasticity, -price_change/quant_change, '-k')\n",
    "plt.plot(demand_elasticity, demand_elasticity, '--g') # a 45 degree dashed line"
   ]
  },
  {
   "cell_type": "markdown",
   "id": "d964d18f",
   "metadata": {},
   "source": [
    "# Problem 4 - (A partial equilibrium model with constant elasticities, tax incidence).\n",
    "\n",
    "In this problem, there will be a tax on each unit sold or bought. It does not matter whether the buyer or the seller has to pay the price nominally. A deeper question is how the tax affects the equilibrium price and therefore to what extent consumers or producers (those demanding the good and those supplying the good) are worse of as a consequence of the tax, who really pays the tax. This is the question of tax incidence."
   ]
  },
  {
   "cell_type": "markdown",
   "id": "ff72ce89",
   "metadata": {},
   "source": [
    "#### a.) Implement a model with constant elasticities in demand and supply. Use the same model as in problem 3 with supply curve p = exp(3)*x^(1⁄2) and demand curve p=exp(6)*x^(-4). Assume that a per-unit tax tc is placed on consumers buying the good, so that the consumers face the price (p+tc), while producers face the price p. Find the equilibrium quantity and the two prices faced by consumers and producers in this model."
   ]
  },
  {
   "cell_type": "code",
   "execution_count": 62,
   "id": "8572474c",
   "metadata": {},
   "outputs": [],
   "source": [
    "def excess_price_tax(quant):\n",
    "    supply = np.exp(3) * quant ** (0.5)\n",
    "    demand = -10 + np.exp(6) * quant ** (-4) #The minus 10 represents the change in demand due to Tax \n",
    "    return supply-demand\n"
   ]
  },
  {
   "cell_type": "code",
   "execution_count": 63,
   "id": "e7299ff2",
   "metadata": {},
   "outputs": [
    {
     "name": "stdout",
     "output_type": "stream",
     "text": [
      "Equalibrium quantity after tax on consumers: 1.8163019351668481\n",
      "Price for suppliers: 27.069327629678604\n",
      "Price for consumers with tax: 37.06932762927304\n",
      "Equilibrium Quantity before tax: 1.947734041063086\n",
      "Equilibrium Price before tax: 28.031624894586656\n"
     ]
    }
   ],
   "source": [
    "q = our_bisection_solver(excess_price_tax, 1, 12, 1e-10)\n",
    "p = np.exp(3) * q ** (0.5)\n",
    "p_for_consumers_with_tax = np.exp(6) * q ** (-4)\n",
    "\n",
    "print(f'Equalibrium quantity after tax on consumers: {q}')\n",
    "print(f'Price for suppliers: {p}')\n",
    "print(f'Price for consumers with tax: {p_for_consumers_with_tax}')\n",
    "\n",
    "oq = our_bisection_solver(excess_price,1, 12, 1e-10)\n",
    "op = np.exp(3)*oq**(0.5)\n",
    "print(f'Equilibrium Quantity before tax: {oq}')\n",
    "print(f'Equilibrium Price before tax: {op}')"
   ]
  },
  {
   "cell_type": "code",
   "execution_count": 81,
   "id": "8e39b1df",
   "metadata": {},
   "outputs": [
    {
     "data": {
      "text/plain": [
       "<matplotlib.legend.Legend at 0x7f83540a7f10>"
      ]
     },
     "execution_count": 81,
     "metadata": {},
     "output_type": "execute_result"
    },
    {
     "data": {
      "image/png": "[encoded data removed]",
      "text/plain": [
       "<Figure size 432x288 with 1 Axes>"
      ]
     },
     "metadata": {},
     "output_type": "display_data"
    }
   ],
   "source": [
    "x = np.linspace(0.9,4,1000)\n",
    "\n",
    "supply = np.exp(3) * x ** (0.5)\n",
    "AT_demand = -10 + np.exp(6) * x ** (-4) \n",
    "BT_demand = np.exp(6)*x**(-4)\n",
    "\n",
    "plt.plot(x, AT_demand, \":b\", label=\"demand after tax\")\n",
    "plt.plot(x, supply, \"-g\", label=\"supply\")\n",
    "plt.plot(x, BT_demand, \"-k\", label=\"demand\")\n",
    "\n",
    "\n",
    "plt.xlabel(\"Quantity\")\n",
    "plt.ylabel(\"Price\")\n",
    "plt.ylim(20, 60)\n",
    "plt.xlim(1,3)\n",
    "\n",
    "plt.hlines(op, 0, oq, linestyles='dotted', label='original price')\n",
    "plt.hlines(p, 0, q, linestyles='dashed', label='price with tax')\n",
    "plt.hlines(p_for_consumers_with_tax, 0, q, linestyles='dashed', color='red', label='price including tax')\n",
    "\n",
    "plt.vlines(oq, 0, op, linestyles='dotted', label='original quantity')\n",
    "plt.vlines(q, 0, p_for_consumers_with_tax, linestyles='dashed', label='quantity with tax')\n",
    "\n",
    "plt.legend(loc=\"upper right\")\n"
   ]
  },
  {
   "cell_type": "markdown",
   "id": "f3f4c527",
   "metadata": {},
   "source": [
    "#### b.) Redo task a, but now with a tax placed on the producers."
   ]
  },
  {
   "cell_type": "code",
   "execution_count": 65,
   "id": "cf0c97bc",
   "metadata": {},
   "outputs": [],
   "source": [
    "def excess_price_tax2(quant):\n",
    "    supply = np.exp(3) * quant ** (0.5) + 10 #The + 10 represents the change in supply due to tax\n",
    "    demand = np.exp(6) * quant ** (-4)\n",
    "    return supply-demand"
   ]
  },
  {
   "cell_type": "code",
   "execution_count": 66,
   "id": "f85e5757",
   "metadata": {},
   "outputs": [
    {
     "name": "stdout",
     "output_type": "stream",
     "text": [
      "Equalibrium quantity after tax on suppliers: 1.8163019351668481\n",
      "Price Before Tax: 27.069327629678604\n",
      "Price After Tax: 37.069327629678604\n",
      "Equilibrium Quantity before tax: 1.947734041063086\n",
      "Equilibrium Price before tax: 28.031624894586656\n"
     ]
    }
   ],
   "source": [
    "q = our_bisection_solver(excess_price_tax2, 1, 12, 1e-10)\n",
    "p = np.exp(3) * q ** (0.5)\n",
    "p_for_suppliers_after_tax = np.exp(3) * q ** (0.5) + 10\n",
    "\n",
    "print(f'Equalibrium quantity after tax on suppliers: {q}')\n",
    "print(f'Price Before Tax: {p}')\n",
    "print(f'Price After Tax: {p_for_suppliers_after_tax}')\n",
    "\n",
    "oq = our_bisection_solver(excess_price, 1, 12, 1e-10)\n",
    "op = np.exp(3) * oq ** (0.5)\n",
    "print(f'Equilibrium Quantity before tax: {oq}')\n",
    "print(f'Equilibrium Price before tax: {op}')"
   ]
  },
  {
   "cell_type": "code",
   "execution_count": 67,
   "id": "e046f0a2",
   "metadata": {},
   "outputs": [
    {
     "data": {
      "text/plain": [
       "<matplotlib.legend.Legend at 0x7f8353fd4610>"
      ]
     },
     "execution_count": 67,
     "metadata": {},
     "output_type": "execute_result"
    },
    {
     "data": {
      "image/png": "[encoded data removed]",
      "text/plain": [
       "<Figure size 432x288 with 1 Axes>"
      ]
     },
     "metadata": {},
     "output_type": "display_data"
    }
   ],
   "source": [
    "x = np.linspace(0.9, 4, 1000)\n",
    "\n",
    "BT_supply = np.exp(3)*x**(0.5)\n",
    "AT_supply = np.exp(3) * x ** (0.5) + 10\n",
    "demand = np.exp(6) * x ** (-4) \n",
    "\n",
    "\n",
    "plt.plot(x, demand, \"-k\", label=\"demand\")\n",
    "plt.plot(x, BT_supply, \"-g\", label=\"supply\")\n",
    "plt.plot(x, AT_supply, \":b\", label=\"supply after tax\")\n",
    "\n",
    "\n",
    "plt.xlabel(\"Quantity\")\n",
    "plt.ylabel(\"Price\")\n",
    "plt.ylim(20, 60)\n",
    "plt.xlim(1,3)\n",
    "\n",
    "plt.hlines(op, 0, oq, linestyles = 'dotted', label = 'original price')\n",
    "plt.hlines(p, 0, q, linestyles = 'dashed', label = 'price not including tax (supplier price)')\n",
    "plt.hlines(p_for_consumers_with_tax, 0, q, linestyles = 'dashed', color='red', label = 'price including tax (consumer price)')\n",
    "\n",
    "plt.vlines(oq, 0, op, linestyles = 'dotted', label = 'original quantity')\n",
    "plt.vlines(q, 0, p_for_consumers_with_tax, linestyles = 'dashed', label = 'quantity with tax')\n",
    "\n",
    "plt.legend(loc = \"upper right\")"
   ]
  },
  {
   "cell_type": "markdown",
   "id": "8a5f5688",
   "metadata": {},
   "source": [
    "#### c.) Compare the results in a. and b. with the equilibrium price in the market in the absence of a tax. Can we now meaningfully discuss who pays the tax?"
   ]
  },
  {
   "cell_type": "markdown",
   "id": "23eca5b8",
   "metadata": {},
   "source": [
    "Ok. So the key thing here is that the tax drives a \"wedge\" between the supply and demand curves and lead to the same equilibrium quantity, consumer price and producer price independent of whether the tax is placed on consumers or producers. So the question of \"who pays the tax?\" can be more interestingly answered in the following way: the sum of the change in consumer prices and producer prices equals the size of the tax. In the graphs above, consumer prices change much more than producer prices, so it makes sense to state that the consumers pay most of the tax, even when it is levied on producers. This is \"tax incidence\". Obviously, the tax incidence depends only the slopes of the demand and supply curves, that is the elasticities. "
   ]
  },
  {
   "cell_type": "markdown",
   "id": "5112785a",
   "metadata": {},
   "source": [
    "#### d.) Keeping the demand elasticity constant, graph how the share of the tax paid depends on the supply elasticity."
   ]
  },
  {
   "cell_type": "code",
   "execution_count": 68,
   "id": "1964a2c5",
   "metadata": {},
   "outputs": [],
   "source": [
    "def excess_price_tax(quant, supply_elast, demand_elast):\n",
    "    supply = np.exp(3) * quant ** (supply_elast)\n",
    "    demand = -10 + np.exp(6) * quant ** (-demand_elast)\n",
    "    return supply-demand\n",
    "\n",
    "def excess_price_without_tax(quant, supply_elast, demand_elast):\n",
    "    supply = np.exp(3) * quant ** (supply_elast)\n",
    "    demand = np.exp(6) * quant ** (-demand_elast)\n",
    "    return supply-demand"
   ]
  },
  {
   "cell_type": "markdown",
   "id": "a04b5d58",
   "metadata": {},
   "source": [
    "To find the price in the absence of tax, recall that: (1) The price depends on the elasticities and (2) the share of the tax paid by producers is $ \\frac{p - op}{10} $"
   ]
  },
  {
   "cell_type": "code",
   "execution_count": 69,
   "id": "017e0eaf",
   "metadata": {},
   "outputs": [
    {
     "name": "stdout",
     "output_type": "stream",
     "text": [
      "Quantity supplied and demanded before tax: 1.947734041063086\n",
      "Price before tax: 28.031624894586656\n",
      "After tax quantity: 1.8163019351668481\n",
      "After tax price: 27.069327629678604\n",
      "Tax paid by producers: 0.09622972649080523\n"
     ]
    }
   ],
   "source": [
    "oq = our_bisection_solver_2(excess_price_without_tax, 1, 12, 1e-10, 0.5, 4)\n",
    "op = np.exp(3) * oq ** (0.5)\n",
    "\n",
    "print(f'Quantity supplied and demanded before tax: {oq}')\n",
    "print(f'Price before tax: {op}')\n",
    "\n",
    "q = our_bisection_solver_2(excess_price_tax, 1, 12, 1e-10,0.5,4)\n",
    "p = np.exp(3)*q**(0.5)\n",
    "tax_paid_by_producers = - (p - op) / 10\n",
    "\n",
    "print(f'After tax quantity: {q}')\n",
    "print(f'After tax price: {p}')\n",
    "print(f'Tax paid by producers: {tax_paid_by_producers}')"
   ]
  },
  {
   "cell_type": "code",
   "execution_count": 70,
   "id": "145443b6",
   "metadata": {},
   "outputs": [
    {
     "data": {
      "text/plain": [
       "<matplotlib.collections.LineCollection at 0x7f8330418b80>"
      ]
     },
     "execution_count": 70,
     "metadata": {},
     "output_type": "execute_result"
    },
    {
     "data": {
      "image/png": "[encoded data removed]",
      "text/plain": [
       "<Figure size 432x288 with 1 Axes>"
      ]
     },
     "metadata": {},
     "output_type": "display_data"
    }
   ],
   "source": [
    "sup_el = np.array(np.linspace(0.1,10,100))\n",
    "share_sup = np.zeros_like(sup_el)\n",
    "\n",
    "for i in range(0,100):\n",
    "    oq = our_bisection_solver_2(excess_price_without_tax, 1, 12, 1e-10, sup_el[i], 4)\n",
    "    op = np.exp(3) * oq ** (sup_el[i])\n",
    "    q = our_bisection_solver_2(excess_price_tax, 1, 12, 1e-10, sup_el[i], 4)\n",
    "    p = np.exp(3) * q ** (sup_el[i])\n",
    "    share_sup[i] = -(p - op) / 10\n",
    "    i += 1\n",
    "    \n",
    "plt.plot(sup_el, share_sup)\n",
    "plt.xlabel(\"Supply elasticity\")\n",
    "plt.title(\"Share of tax paid by producers, demand elasticity is 4\")\n",
    "plt.hlines(0.5, 0, 4, linestyles='dashed', color='red')\n",
    "plt.vlines(4, 0, 0.5, linestyles='dashed', color='red')"
   ]
  },
  {
   "cell_type": "markdown",
   "id": "7b04f277",
   "metadata": {},
   "source": [
    "#### e.) Keeping the supply elasticity constant, graph how the share of the tax paid depends on the demand elasticity."
   ]
  },
  {
   "cell_type": "code",
   "execution_count": 71,
   "id": "8474462e",
   "metadata": {},
   "outputs": [
    {
     "data": {
      "text/plain": [
       "<matplotlib.collections.LineCollection at 0x7f8320866730>"
      ]
     },
     "execution_count": 71,
     "metadata": {},
     "output_type": "execute_result"
    },
    {
     "data": {
      "image/png": "[encoded data removed]",
      "text/plain": [
       "<Figure size 432x288 with 1 Axes>"
      ]
     },
     "metadata": {},
     "output_type": "display_data"
    }
   ],
   "source": [
    "dem_el = np.array(np.linspace(0.8,10,100))\n",
    "share_sup = np.zeros_like(sup_el)\n",
    "\n",
    "for i in range(0,100):\n",
    "    oq = our_bisection_solver_2(excess_price_without_tax, 0.001, 12, 1e-10,1, dem_el[i])\n",
    "    op = np.exp(3) * oq ** (1)\n",
    "    q = our_bisection_solver_2(excess_price_tax, 1, 12, 1e-10, 1, dem_el[i])\n",
    "    p = np.exp(3) * q ** (1)\n",
    "    share_sup[i] = -(p-op) / 10\n",
    "    i += 1\n",
    "    \n",
    "plt.plot(dem_el, share_sup)\n",
    "plt.xlabel(\"Demand elasticity\")\n",
    "plt.title(\"Share of tax paid by producers, supply elasticity is 1\")\n",
    "plt.hlines(0.5, 0, 1, linestyles='dashed', color='red')\n",
    "plt.vlines(1, 0, 0.5, linestyles='dashed', color='red')"
   ]
  },
  {
   "cell_type": "markdown",
   "id": "ddf3ae5e",
   "metadata": {},
   "source": [
    "#### f.) An economist tells you that the share of the tax paid depends only on the ratio of the two elasticities. You do not believe her - verify or falsify her claim using your model."
   ]
  },
  {
   "cell_type": "markdown",
   "id": "d4761d4c",
   "metadata": {},
   "source": [
    "Well, at least you have two data points suggesting so. (The red dashed lines in 4e and 4f show that the tax incidence is approximately equal when the supply and demand elasticities are the same.) We do this for different combinations and keep the share."
   ]
  },
  {
   "cell_type": "code",
   "execution_count": 72,
   "id": "df27840b",
   "metadata": {},
   "outputs": [
    {
     "data": {
      "text/plain": [
       "<matplotlib.collections.PathCollection at 0x7f83303dfbe0>"
      ]
     },
     "execution_count": 72,
     "metadata": {},
     "output_type": "execute_result"
    },
    {
     "data": {
      "image/png": "[encoded data removed]",
      "text/plain": [
       "<Figure size 432x288 with 1 Axes>"
      ]
     },
     "metadata": {},
     "output_type": "display_data"
    }
   ],
   "source": [
    "dem_el = np.array(np.linspace(0.8,10,10))\n",
    "sup_el = np.array(np.linspace(0.5,14,10))\n",
    "share_sup = np.zeros((100,1))\n",
    "myratioa = np.zeros((100,1))\n",
    "myratiob = np.zeros((100,1))\n",
    "k = 0\n",
    "\n",
    "for i in range(0,10):\n",
    "    for j in range(0,10):\n",
    "        oq = our_bisection_solver_2(excess_price_without_tax, 0.001, 12, 1e-10, sup_el[i], dem_el[j])\n",
    "        op = np.exp(3) * oq ** (sup_el[i])\n",
    "        q = our_bisection_solver_2(excess_price_tax, 1, 12, 1e-10, sup_el[i], dem_el[j])\n",
    "        p = np.exp(3) * q ** (sup_el[i])\n",
    "        share_sup[k] = -(p-op) / 10\n",
    "        myratiob[k] = sup_el[i] / (dem_el[j] + sup_el[i]) \n",
    "        myratioa[k] = sup_el[i] / dem_el[j] \n",
    "        k += 1\n",
    "    \n",
    "plt.scatter(share_sup,myratioa)"
   ]
  },
  {
   "cell_type": "markdown",
   "id": "a9a2b792",
   "metadata": {},
   "source": [
    "Well, it only depends on the ratio, but it is actually given by: $$ \\frac {\\text sup_{el}}{(\\text dem_{el} + \\text sup_{el})} $$"
   ]
  },
  {
   "cell_type": "code",
   "execution_count": 73,
   "id": "e44faf45",
   "metadata": {},
   "outputs": [
    {
     "data": {
      "text/plain": [
       "[<matplotlib.lines.Line2D at 0x7f834079e040>]"
      ]
     },
     "execution_count": 73,
     "metadata": {},
     "output_type": "execute_result"
    },
    {
     "data": {
      "image/png": "[encoded data removed]",
      "text/plain": [
       "<Figure size 432x288 with 1 Axes>"
      ]
     },
     "metadata": {},
     "output_type": "display_data"
    }
   ],
   "source": [
    "plt.scatter(share_sup, myratiob)\n",
    "plt.plot(np.linspace(0, 1, 100), np.linspace(0, 1, 100)) # just a 45 degree line"
   ]
  },
  {
   "cell_type": "markdown",
   "id": "26e1dcc4",
   "metadata": {},
   "source": [
    "#### g.) Another economist tells you that he prefers to work with this model on the log scale, that is, by using the supply function log p = 3 + 0.5 log x and demand function log p = 6 - 4 log x. He can then easily determine the log price and the log quantity. However, when including a tax (on consumers) he would just write that consumers face the price log p + tc. He says that this means that it is not a tax per unit sold but a tax on the value of the units sold (like e.g. a value added tax). Verify this numerically in the model."
   ]
  },
  {
   "cell_type": "markdown",
   "id": "a4fa9a77",
   "metadata": {},
   "source": [
    "So, it is easier to work with a system of two linear equations like problem 2 than to work within the non-linear functions from problems 3 or 4. What I am going to do here is to just verify this numerically. So we go back to 4a and implement the tax for the same elasticities that we had there. This is just the code from there, checking what the tax rate would be on the value of the goods transacted."
   ]
  },
  {
   "cell_type": "code",
   "execution_count": 74,
   "id": "a5ad56b3",
   "metadata": {},
   "outputs": [],
   "source": [
    "def excess_price_tax(quant):\n",
    "    supply = np.exp(3) * quant ** (0.5)\n",
    "    demand = -10 + np.exp(6) * quant ** (-4)\n",
    "    return supply-demand"
   ]
  },
  {
   "cell_type": "code",
   "execution_count": 75,
   "id": "41e78d68",
   "metadata": {},
   "outputs": [
    {
     "name": "stdout",
     "output_type": "stream",
     "text": [
      "27.069327629678604\n",
      "37.06932762927304\n",
      "0.3694218096882494\n",
      "0.31438861402262397\n"
     ]
    }
   ],
   "source": [
    "q = our_bisection_solver(excess_price_tax, 1, 12, 1e-10)\n",
    "p = np.exp(3) * q ** (0.5)\n",
    "p_for_consumers_with_tax = np.exp(6) * q ** (-4)\n",
    "\n",
    "print(p)\n",
    "print(p_for_consumers_with_tax)\n",
    "print(10/p)\n",
    "print(np.log(p_for_consumers_with_tax)-np.log(p))"
   ]
  },
  {
   "cell_type": "markdown",
   "id": "e1bb01a6",
   "metadata": {},
   "source": [
    "So this is a 36.9 pct tax. Or a tax that increases the price by 0.314 on the log scale. To implement this in the log framework, we would have to add 0.314 to the log price. For low taxes, say a 5 percent tax, this is almost exactly an increase in 0.05 on the log scale, so we don't need to do the computation.\n",
    "\n",
    "So we will implement the model on the log scale, solve for the equilibrium price and see that we get the same result as from 2a."
   ]
  },
  {
   "cell_type": "code",
   "execution_count": 76,
   "id": "e55864db",
   "metadata": {},
   "outputs": [],
   "source": [
    "def excess_price_tax_logs(logquant):\n",
    "    logsupply = 3 + 0.5 * logquant\n",
    "    logdemand = -0.3143886 + 6 - 4*logquant\n",
    "    return logsupply-logdemand"
   ]
  },
  {
   "cell_type": "code",
   "execution_count": 77,
   "id": "875c7fed",
   "metadata": {},
   "outputs": [
    {
     "name": "stdout",
     "output_type": "stream",
     "text": [
      "3.2984012666629496\n",
      "27.06932767175388\n",
      "3.612789866696403\n",
      "37.06932716832268\n"
     ]
    }
   ],
   "source": [
    "lq = our_bisection_solver(excess_price_tax_logs,-5, 12, 1e-10)\n",
    "lp = 3+0.5*lq\n",
    "lp_for_consumers = 6-4*lq\n",
    "print(lp)\n",
    "print(np.exp(lp))\n",
    "print(lp_for_consumers)\n",
    "print(np.exp(lp_for_consumers))\n"
   ]
  },
  {
   "cell_type": "markdown",
   "id": "f68df76d",
   "metadata": {},
   "source": [
    "So maybe we don't care, because it is just as easy to operate on one scale and not the other, but this is just because we do this numerically. Apart from that solving linear systems of equations is easier than non-linear ones."
   ]
  },
  {
   "cell_type": "code",
   "execution_count": null,
   "id": "2474adff",
   "metadata": {},
   "outputs": [],
   "source": []
  }
 ],
 "metadata": {
  "kernelspec": {
   "display_name": "Python 3 (ipykernel)",
   "language": "python",
   "name": "python3"
  },
  "language_info": {
   "codemirror_mode": {
    "name": "ipython",
    "version": 3
   },
   "file_extension": ".py",
   "mimetype": "text/x-python",
   "name": "python",
   "nbconvert_exporter": "python",
   "pygments_lexer": "ipython3",
   "version": "3.9.7"
  }
 },
 "nbformat": 4,
 "nbformat_minor": 5
}
