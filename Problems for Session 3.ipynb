{
 "cells": [
  {
   "cell_type": "markdown",
   "id": "ffe57ddb",
   "metadata": {},
   "source": [
    "# Problems for Session 3/ Week 3 in Computational Economics"
   ]
  },
  {
   "cell_type": "code",
   "execution_count": 1,
   "id": "0408c199",
   "metadata": {},
   "outputs": [],
   "source": [
    "import numpy as np \n",
    "import matplotlib.pyplot as plt\n",
    "plt.style.use('seaborn-whitegrid')"
   ]
  },
  {
   "cell_type": "markdown",
   "id": "82b7b6cf",
   "metadata": {},
   "source": [
    "### Table of Contents\n",
    "\n",
    "* [Problem 1 - The Secant Method](#Problem1)\n",
    "        \n",
    "* [Problem 2 -  A function maximization routine using the secant method.](#Problem2)\n",
    "\n",
    "* [Problem 3 -  Implicit functions, Newton’s method.](#Problem3)\n",
    "    \n",
    "* [Problem 4 -  Stability and Newton’s method.](#Problem4)\n",
    "   "
   ]
  },
  {
   "cell_type": "markdown",
   "id": "47195aad",
   "metadata": {},
   "source": [
    "### Problem 1 - The secant method.<a class=\"anchor\" id=\"Problem1\"></a>\n",
    "\n",
    "[[Back to TOC]](#Table-of-Contents)"
   ]
  },
  {
   "cell_type": "markdown",
   "id": "0d353df5",
   "metadata": {},
   "source": [
    "#### Problem 1a\n",
    "\n",
    "You want to solve an equation, say e(x)=4x. Implement the solution with the secant method without using preprogrammed solvers (such as the one in the lecture notes). Using x=0 as point number 1 and x=1 as point number 2."
   ]
  },
  {
   "cell_type": "code",
   "execution_count": 2,
   "id": "90985e49",
   "metadata": {},
   "outputs": [],
   "source": [
    "def func1(x):\n",
    "    f_x = np.exp(x) - (4 * x) \n",
    "    return f_x\n"
   ]
  },
  {
   "cell_type": "code",
   "execution_count": 3,
   "id": "4f1bfe61",
   "metadata": {},
   "outputs": [
    {
     "name": "stdout",
     "output_type": "stream",
     "text": [
      "f(x) when x = 0.43826622081229755 is equal to: -1.281718171540955\n",
      "f(x) when x = 0.33252629017216206 is equal to: -0.20304738383463672\n",
      "f(x) when x = 0.3579823559598122 is equal to: 0.0643813993060991\n",
      "f(x) when x = 0.35740690574934914 is equal to: -0.0014890423295865762\n",
      "f(x) when x = 0.3574029555447807 is equal to: -1.0151911632005906e-05\n",
      "f(x) when x = 0.35740295618138956 is equal to: 1.6363301824640075e-09\n",
      "Your \"zero\" is located at: [0.35740295618138956,1.6363301824640075e-09]\n"
     ]
    }
   ],
   "source": [
    "x_1 = 0\n",
    "x_2 = 1\n",
    "f_x_1 = func1(x_1)\n",
    "\n",
    "while (abs(f_x_1) > 1e-8):\n",
    "    f_x_2 = func1(x_2)\n",
    "    x_new = x_1 - f_x_1 * (x_2 - x_1) / (f_x_2 - f_x_1) #The secant formula\n",
    "    #Replace old X's\n",
    "    x_1 = x_2\n",
    "    f_x_1 = f_x_2\n",
    "    x_2 = x_new\n",
    "    print(f\"f(x) when x = {x_new} is equal to: {(f_x_2)}\")\n",
    "\n",
    "print(f'Your \"zero\" is located at: [{x_2},{f_x_2}]')\n",
    "    \n"
   ]
  },
  {
   "cell_type": "code",
   "execution_count": 4,
   "id": "b6f39fda",
   "metadata": {},
   "outputs": [
    {
     "data": {
      "text/plain": [
       "<matplotlib.legend.Legend at 0x7fc3a9f97490>"
      ]
     },
     "execution_count": 4,
     "metadata": {},
     "output_type": "execute_result"
    },
    {
     "data": {
      "image/png": "[encoded data removed]",
      "text/plain": [
       "<Figure size 432x288 with 1 Axes>"
      ]
     },
     "metadata": {},
     "output_type": "display_data"
    }
   ],
   "source": [
    "plt.scatter(0, 1, label = 'point1')\n",
    "plt.scatter(1, -1.2817, label = 'point2')\n",
    "plt.hlines(0, -2, 2, label = 'zero line')\n",
    "plt.plot([0, 1], [1, -1.2817], label = 'linear approximation 1')\n",
    "plt.vlines(x_new, -1, 1, linestyles='dotted' )\n",
    "plt.legend(loc='upper right')\n"
   ]
  },
  {
   "cell_type": "markdown",
   "id": "6c5b0bcf",
   "metadata": {},
   "source": [
    "#### Problem 1b\n",
    "\n",
    "Improve point a: For each iteration in your algorithm print out iteration number, point number 1, point number 2, the distance between the two points and the value of between e(x)-4x.\n",
    "\n",
    "https://personal.math.ubc.ca/~pwalls/math-python/roots-optimization/secant/"
   ]
  },
  {
   "cell_type": "code",
   "execution_count": 5,
   "id": "1c448bef",
   "metadata": {},
   "outputs": [
    {
     "name": "stdout",
     "output_type": "stream",
     "text": [
      "Iteration number: 1 | x1 = 1.0000 | x2 = 0.4383 | distance between Xs =  0.561734 | f(x) = -1.28171817\n",
      "Iteration number: 2 | x1 = 0.4383 | x2 = 0.3325 | distance between Xs =  0.105740 | f(x) = -0.20304738\n",
      "Iteration number: 3 | x1 = 0.3325 | x2 = 0.3580 | distance between Xs =  -0.025456 | f(x) = 0.06438140\n",
      "Iteration number: 4 | x1 = 0.3580 | x2 = 0.3574 | distance between Xs =  0.000575 | f(x) = -0.00148904\n",
      "Iteration number: 5 | x1 = 0.3574 | x2 = 0.3574 | distance between Xs =  0.000004 | f(x) = -0.00001015\n",
      "Iteration number: 6 | x1 = 0.3574 | x2 = 0.3574 | distance between Xs =  -0.000000 | f(x) = 0.00000000\n"
     ]
    }
   ],
   "source": [
    "x1 = 0\n",
    "x2 = 1\n",
    "f_x_1 = func1(x1)\n",
    "\n",
    "i = 0\n",
    "\n",
    "while (abs(f_x_1) > 1e-8):\n",
    "    i += 1\n",
    "    f_x_2 = func1(x2)\n",
    "    x_new = x1 - f_x_1 * (x2 - x1) / (f_x_2 - f_x_1) #The secant formula\n",
    "    #Replace values \n",
    "    x1 = x2\n",
    "    f_x_1 = f_x_2\n",
    "    x2 = x_new\n",
    "    print(f'Iteration number: {i} | x1 = {x1:.4f} | x2 = {x2:.4f} | distance between Xs =  {(x1 - x2):.6f} | f(x) = {f_x_2:.8f}')\n"
   ]
  },
  {
   "cell_type": "markdown",
   "id": "108f5f96",
   "metadata": {},
   "source": [
    "#### Problem 1c\n",
    "\n",
    "Say you want to maximize the function e(x)-2x^2. Can you just use the code from a. and b. or do you need more? Please implement a version where you also print out the function value at each iteration. Is this useful?"
   ]
  },
  {
   "cell_type": "markdown",
   "id": "febc4d2e",
   "metadata": {},
   "source": [
    "Yes, Taking the derivative of $$ f(x) = e^{x}-2x^{2} $$ will give us the FOC of the maximization problem, that is $$ f'(x) = e^{x} - 4x = 0 $$ which is similar as above. Hence: "
   ]
  },
  {
   "cell_type": "code",
   "execution_count": 6,
   "id": "55484c62",
   "metadata": {},
   "outputs": [
    {
     "name": "stdout",
     "output_type": "stream",
     "text": [
      "Iteration Number: 1 | x1 = 1.0000 | x2 = 0.4383 | distance between Xs =  0.561734 | FOC = -1.28171817 |f(x) = 1.1659\n",
      "Iteration Number: 2 | x1 = 0.4383 | x2 = 0.3325 | distance between Xs =  0.105740 | FOC = -0.20304738 |f(x) = 1.1733\n",
      "Iteration Number: 3 | x1 = 0.3325 | x2 = 0.3580 | distance between Xs =  -0.025456 | FOC = 0.06438140 |f(x) = 1.1741\n",
      "Iteration Number: 4 | x1 = 0.3580 | x2 = 0.3574 | distance between Xs =  0.000575 | FOC = -0.00148904 |f(x) = 1.1741\n",
      "Iteration Number: 5 | x1 = 0.3574 | x2 = 0.3574 | distance between Xs =  0.000004 | FOC = -0.00001015 |f(x) = 1.1741\n",
      "Iteration Number: 6 | x1 = 0.3574 | x2 = 0.3574 | distance between Xs =  -0.000000 | FOC = 0.00000000 |f(x) = 1.1741\n"
     ]
    }
   ],
   "source": [
    "x1 = 0\n",
    "x2 = 1\n",
    "f_x_1 = func1(x1)\n",
    "\n",
    "i = 0\n",
    "while (abs(f_x_1) > 1e-8):\n",
    "    i += 1\n",
    "    f_x_2 = func1(x2)\n",
    "    x_new = x1 - f_x_1 * (x2 - x1) / (f_x_2 - f_x_1) #The secant formula\n",
    "    #Replace values \n",
    "    x1 = x2\n",
    "    f_x_1 = f_x_2\n",
    "    x2 = x_new\n",
    "    print(f'Iteration Number: {i} | x1 = {x1:.4f} | x2 = {x2:.4f} | distance between Xs =  {(x1 - x2):.6f} | FOC = {f_x_2:.8f} |f(x) = {(np.exp(x2)-(2*x2**2)):6.4f}')\n"
   ]
  },
  {
   "cell_type": "markdown",
   "id": "5c473771",
   "metadata": {},
   "source": [
    "#### Problem 1d\n",
    "\n",
    "Change the function to be maximized to the third order polynomial from Session 1, Problem 4. Show that whether you find the maximum depends on the starting values."
   ]
  },
  {
   "cell_type": "markdown",
   "id": "3e4463a4",
   "metadata": {},
   "source": [
    "Suppose we have a function $$ f(x) = x^3 + x^2 - x + 1 $$ If we take the derivative of the function will give us our FOC for maximization, hence: $$ f'(x) = 3x^2 + 2x - 1 = 0 $$"
   ]
  },
  {
   "cell_type": "code",
   "execution_count": 38,
   "id": "56be246d",
   "metadata": {},
   "outputs": [],
   "source": [
    "def foc(x):\n",
    "    deri_fx = 3 * x ** 2 + 2 * x - 1\n",
    "    return deri_fx\n"
   ]
  },
  {
   "cell_type": "code",
   "execution_count": 39,
   "id": "2684810d",
   "metadata": {},
   "outputs": [
    {
     "name": "stdout",
     "output_type": "stream",
     "text": [
      "Iteration number 1 | x1 = 1.0000 | x2 = 0.2000 | distance between Xs = 0.8000 | FOC = 4.0000 | f(x) = 0.8480\n",
      "Iteration number 2 | x1 = 0.2000 | x2 = 0.2857 | distance between Xs = -0.0857 | FOC = -0.4800 | f(x) = 0.8192\n",
      "Iteration number 3 | x1 = 0.2857 | x2 = 0.3388 | distance between Xs = -0.0531 | FOC = -0.1837 | f(x) = 0.8149\n",
      "Iteration number 4 | x1 = 0.3388 | x2 = 0.3331 | distance between Xs = 0.0057 | FOC = 0.0221 | f(x) = 0.8148\n",
      "Iteration number 5 | x1 = 0.3331 | x2 = 0.3333 | distance between Xs = -0.0002 | FOC = -0.0008 | f(x) = 0.8148\n",
      "Iteration number 6 | x1 = 0.3333 | x2 = 0.3333 | distance between Xs = -0.0000 | FOC = -0.0000 | f(x) = 0.8148\n",
      "Iteration number 7 | x1 = 0.3333 | x2 = 0.3333 | distance between Xs = 0.0000 | FOC = 0.0000 | f(x) = 0.8148\n"
     ]
    }
   ],
   "source": [
    "x1 = 0 \n",
    "x2 = 1 \n",
    "f1 = foc(x1)\n",
    "\n",
    "i = 0 \n",
    "while (abs(f1)>1e-8): \n",
    "    i += 1 \n",
    "    f2 = foc(x2)\n",
    "    xnew = x1 - f1 * (x2 - x1)/(f2 - f1) #The secant formula\n",
    "    x1 = x2\n",
    "    f1 = f2\n",
    "    x2 = xnew \n",
    "    print(f'Iteration number {i} | x1 = {x1:6.4f} | x2 = {x2:6.4f} | distance between Xs = {(x1 - x2):6.4f} | FOC = {f2:6.4f} | f(x) = {(xnew ** 3 + xnew ** 2 - xnew + 1):6.4f}')"
   ]
  },
  {
   "cell_type": "markdown",
   "id": "34649622",
   "metadata": {},
   "source": [
    "Plotting the FOC"
   ]
  },
  {
   "cell_type": "code",
   "execution_count": 40,
   "id": "c8151bb9",
   "metadata": {},
   "outputs": [
    {
     "data": {
      "text/plain": [
       "<matplotlib.legend.Legend at 0x7fc3aa0587f0>"
      ]
     },
     "execution_count": 40,
     "metadata": {},
     "output_type": "execute_result"
    },
    {
     "data": {
      "image/png": "[encoded data removed]",
      "text/plain": [
       "<Figure size 432x288 with 1 Axes>"
      ]
     },
     "metadata": {},
     "output_type": "display_data"
    }
   ],
   "source": [
    "x = np.linspace(-4, 4, 100)\n",
    "y = foc(x)\n",
    "plt.plot(x, y, label = 'FOC')\n",
    "plt.scatter(-1, 0, label = 'Point 1')\n",
    "plt.scatter(0.05, -0.33, label = 'Point 2')\n",
    "plt.legend(loc = 'upper right')"
   ]
  },
  {
   "cell_type": "markdown",
   "id": "06ce5734",
   "metadata": {},
   "source": [
    "From the graph, we saw that between x = -1 and x = 0.5, so to find the candidate point for maximimum we used the secand method"
   ]
  },
  {
   "cell_type": "code",
   "execution_count": 41,
   "id": "ba4bc832",
   "metadata": {},
   "outputs": [
    {
     "name": "stdout",
     "output_type": "stream",
     "text": [
      "Iteration number 1 | x1 = -0.8000 | x2 = -0.9700 | distance between Xs = 0.1700 | FOC = -0.6800 | f(x) = 1.9982\n",
      "Iteration number 2 | x1 = -0.9700 | x2 = -1.0054 | distance between Xs = 0.0354 | FOC = -0.1173 | f(x) = 1.9999\n",
      "Iteration number 3 | x1 = -1.0054 | x2 = -0.9999 | distance between Xs = -0.0056 | FOC = 0.0218 | f(x) = 2.0000\n",
      "Iteration number 4 | x1 = -0.9999 | x2 = -1.0000 | distance between Xs = 0.0001 | FOC = -0.0005 | f(x) = 2.0000\n",
      "Iteration number 5 | x1 = -1.0000 | x2 = -1.0000 | distance between Xs = 0.0000 | FOC = -0.0000 | f(x) = 2.0000\n",
      "Iteration number 6 | x1 = -1.0000 | x2 = -1.0000 | distance between Xs = -0.0000 | FOC = 0.0000 | f(x) = 2.0000\n"
     ]
    }
   ],
   "source": [
    "x1 = -1.2\n",
    "x2 = -0.8\n",
    "f1 = foc(x1)\n",
    "\n",
    "i = 0 \n",
    "while (abs(f1)>1e-8): \n",
    "    i += 1 \n",
    "    f2 = foc(x2)\n",
    "    xnew = x1 - f1 * (x2 - x1)/(f2 - f1) #The secant formula\n",
    "    x1 = x2\n",
    "    f1 = f2\n",
    "    x2 = xnew \n",
    "    print(f'Iteration number {i} | x1 = {x1:6.4f} | x2 = {x2:6.4f} | distance between Xs = {(x1 - x2):6.4f} | FOC = {f2:6.4f} | f(x) = {(xnew ** 3 + xnew ** 2 - xnew + 1):6.4f}')"
   ]
  },
  {
   "cell_type": "code",
   "execution_count": null,
   "id": "a4bb0fba",
   "metadata": {},
   "outputs": [],
   "source": []
  },
  {
   "cell_type": "markdown",
   "id": "1a825770",
   "metadata": {},
   "source": [
    "### Problem 2 - A function maximization routine using the secant method. <a class=\"anchor\" id=\"Problem2\"></a>\n",
    "\n",
    "[[Back to TOC]](#Table-of-Contents)"
   ]
  },
  {
   "cell_type": "markdown",
   "id": "01cf5076",
   "metadata": {},
   "source": [
    "#### Problem 2a\n",
    "\n",
    "Implement two function maximizers based on the secant method (like the ones we made for Newton’s method in the lectures), one that calculates derivatives numerically, and one where the user needs to code the derivative of the function."
   ]
  },
  {
   "cell_type": "code",
   "execution_count": 42,
   "id": "c3350639",
   "metadata": {},
   "outputs": [],
   "source": [
    "def func2(x, empty): \n",
    "    fval = np.exp(x) - 2 * x ** 2\n",
    "    fder = np.exp(x) - 4 * x\n",
    "    return fval, fder"
   ]
  },
  {
   "cell_type": "code",
   "execution_count": 98,
   "id": "7e7a176b",
   "metadata": {},
   "outputs": [],
   "source": [
    "def our_secant_maximizer_a(funcname, startold, startnew, arglist): #Analytical Approach\n",
    "    \n",
    "    ''' funcname = The function we are trying to maximize\n",
    "    since in our secant method we need to guess 2 values of x's wherein our root lies, then:\n",
    "    \n",
    "        startold = The initial value of x \n",
    "        startnew = The other value of x\n",
    "        arglist = List of aguments to pass \n",
    "        \n",
    "    However, do note that in the function we define the other argument is empty, \n",
    "    then the arglist is just an empty list'''\n",
    "    \n",
    "    old = startold\n",
    "    new = startnew\n",
    "    fvalold, derold = funcname(old, arglist) #In maximization we need the FOC, hence we have the derivative\n",
    "    fvalnew, dernew = funcname(new, arglist)\n",
    "    \n",
    "    #The algorithm \n",
    "    while (abs(dernew) > 1e-8):\n",
    "        brandnew = old - derold * (new - old) / (dernew - derold)\n",
    "        fvalbrandnew, derbrandnew = funcname(brandnew, arglist)\n",
    "        old = new \n",
    "        derold = dernew\n",
    "        new = brandnew\n",
    "        dernew = derbrandnew\n",
    "    \n",
    "    return new\n",
    "    "
   ]
  },
  {
   "cell_type": "code",
   "execution_count": 99,
   "id": "e722d794",
   "metadata": {},
   "outputs": [
    {
     "data": {
      "text/plain": [
       "0.357402953282751"
      ]
     },
     "execution_count": 99,
     "metadata": {},
     "output_type": "execute_result"
    }
   ],
   "source": [
    "our_secant_maximizer_a(func2, 0, 3, [])"
   ]
  },
  {
   "cell_type": "markdown",
   "id": "ee9af254",
   "metadata": {},
   "source": [
    "Now a solver secant method that takes a numerical derivative: "
   ]
  },
  {
   "cell_type": "code",
   "execution_count": 103,
   "id": "3473e456",
   "metadata": {},
   "outputs": [],
   "source": [
    "def our_secant_maximizer_n(funcname, startold, startnew, arglist): #Numerical approach without defining the derivative\n",
    "    \n",
    "    old = startold \n",
    "    new = startnew \n",
    "    \n",
    "    fvalold = funcname(old, arglist)\n",
    "    \n",
    "    #Taking the uncertainty +/- of the orginal function\n",
    "    fvalold1 = funcname(old-(1e-5) * 0.5, arglist) \n",
    "    fvalold2 = funcname(old+(1e-5) * 0.5, arglist)\n",
    "    \n",
    "    derold = (fvalold2 - fvalold1) * 1e+5  #The numerical derivative which by definition approx. to fvalold.\n",
    "    \n",
    "    fvalnew = funcname(new, arglist)\n",
    "    \n",
    "    fvalnewd1 = funcname(new-(1e-5) * 0.5, arglist)\n",
    "    fvalnewd2 = funcname(new+(1e-5) * 0.5, arglist)\n",
    "    \n",
    "    dernew = (fvalnewd2 - fvalnewd1) * 1e+5 \n",
    "    \n",
    "    #The algorithm \n",
    "    while (abs(dernew) > 1e-8): #We use dernew to satisfy the FOC\n",
    "        brandnew = old - derold * (new - old) / (dernew - derold)\n",
    "        fvalbrandnew = funcname(brandnew, arglist)\n",
    "        fvalbrandnewd1 = funcname(brandnew-(1e-5) * 0.5, arglist)\n",
    "        fvalbrandnewd2 = funcname(brandnew+(1e-5) * 0.5, arglist)\n",
    "        \n",
    "        derbrandnew = (fvalbrandnewd1 - fvalbrandnewd2) * 1e+5\n",
    "        \n",
    "        old = new\n",
    "        derold = dernew\n",
    "        new = brandnew\n",
    "        dernew = derbrandnew\n",
    "        \n",
    "    return new\n",
    "    "
   ]
  },
  {
   "cell_type": "code",
   "execution_count": 104,
   "id": "d8abe995",
   "metadata": {},
   "outputs": [],
   "source": [
    "def testfunc_n(x, empty): \n",
    "    fx = np.exp(x) - 2 * x ** 2\n",
    "    return fx\n"
   ]
  },
  {
   "cell_type": "code",
   "execution_count": 105,
   "id": "37af3925",
   "metadata": {},
   "outputs": [
    {
     "data": {
      "text/plain": [
       "0.35740295444262066"
      ]
     },
     "execution_count": 105,
     "metadata": {},
     "output_type": "execute_result"
    }
   ],
   "source": [
    "our_secant_maximizer_n(testfunc_n, 0, 3, [])"
   ]
  },
  {
   "cell_type": "markdown",
   "id": "ec2062c4",
   "metadata": {},
   "source": [
    "### Problem 3 - Implicit functions, Newton’s method.  <a class=\"anchor\" id=\"Problem3\"></a>\n",
    "\n",
    "[[Back to TOC]](#Table-of-Contents)"
   ]
  },
  {
   "cell_type": "markdown",
   "id": "47ffcd62",
   "metadata": {},
   "source": [
    "#### Problem 3a\n",
    "\n",
    "We want to define a function y=f(a) implicitly, where y is given by the solution of the equation log (x) + ax^2 = 0. Make a nice graph of this function."
   ]
  },
  {
   "cell_type": "code",
   "execution_count": 111,
   "id": "9e4fb4ff",
   "metadata": {},
   "outputs": [],
   "source": [
    "def our_newton_solver(funcname, startvalue, arglist):\n",
    "    \n",
    "    current = startvalue\n",
    "    fval = funcname(current, arglist)\n",
    "    #Gradient of the function\n",
    "    grad = (funcname(current+0.5*1e-5, arglist) - funcname(current-0.5*1e-5, arglist)) * 1e+5 \n",
    "    \n",
    "    while (abs(fval) > 1e-8):\n",
    "        \n",
    "        current = current - fval/grad #Newton's formula\n",
    "        fval = funcname(current, arglist)\n",
    "        grad = (funcname(current+0.5*1e-5, arglist) - funcname(current-0.5*1e-5, arglist)) * 1e+5  \n",
    "        \n",
    "    return current\n"
   ]
  },
  {
   "cell_type": "code",
   "execution_count": 112,
   "id": "b0e231b5",
   "metadata": {},
   "outputs": [],
   "source": [
    "def innerfunction(x, a):\n",
    "    ga = np.log(x) + (a * x ** 2)\n",
    "    return ga\n"
   ]
  },
  {
   "cell_type": "code",
   "execution_count": 113,
   "id": "f8a603c6",
   "metadata": {},
   "outputs": [
    {
     "data": {
      "text/plain": [
       "4.0"
      ]
     },
     "execution_count": 113,
     "metadata": {},
     "output_type": "execute_result"
    }
   ],
   "source": [
    "innerfunction(1, 4)"
   ]
  },
  {
   "cell_type": "code",
   "execution_count": 117,
   "id": "365ecd05",
   "metadata": {},
   "outputs": [],
   "source": [
    "def outerfunction(a):\n",
    "    fa = our_newton_solver(innerfunction, 1, a)\n",
    "    return fa\n"
   ]
  },
  {
   "cell_type": "code",
   "execution_count": 118,
   "id": "1240fa84",
   "metadata": {},
   "outputs": [
    {
     "data": {
      "text/plain": [
       "0.5482170813639983"
      ]
     },
     "execution_count": 118,
     "metadata": {},
     "output_type": "execute_result"
    }
   ],
   "source": [
    "outerfunction(2)"
   ]
  },
  {
   "cell_type": "code",
   "execution_count": 119,
   "id": "ab5189dd",
   "metadata": {},
   "outputs": [
    {
     "data": {
      "text/plain": [
       "[<matplotlib.lines.Line2D at 0x7fc3d87f3220>]"
      ]
     },
     "execution_count": 119,
     "metadata": {},
     "output_type": "execute_result"
    },
    {
     "data": {
      "image/png": "[encoded data removed]",
      "text/plain": [
       "<Figure size 432x288 with 1 Axes>"
      ]
     },
     "metadata": {},
     "output_type": "display_data"
    }
   ],
   "source": [
    "x = np.linspace(0, 5, 100)\n",
    "y = np.zeros(100)\n",
    "\n",
    "for i in range(100):\n",
    "    y[i] = outerfunction(x[i])\n",
    "    \n",
    "plt.plot(x, y)\n"
   ]
  },
  {
   "cell_type": "code",
   "execution_count": 120,
   "id": "a5e64317",
   "metadata": {},
   "outputs": [
    {
     "data": {
      "text/plain": [
       "-5.479131037766649e-09"
      ]
     },
     "execution_count": 120,
     "metadata": {},
     "output_type": "execute_result"
    }
   ],
   "source": [
    "innerfunction(0.54821708, 2)\n"
   ]
  },
  {
   "cell_type": "markdown",
   "id": "23f63b39",
   "metadata": {},
   "source": [
    "#### Problem 3b\n",
    "\n",
    "In a consumer choice problem, a consumer’s demand curve can be characterized by the implicit function x = f(p) where x is given by the z that maximizes 0.5*log(z)+0.5log(20-p*z). (Much more on this very soon!) Please graph this function. (This is a demand function.)"
   ]
  },
  {
   "cell_type": "code",
   "execution_count": 121,
   "id": "b5f69c51",
   "metadata": {},
   "outputs": [],
   "source": [
    "def our_newton_maximizer(funcname, startvalue, arglist):\n",
    "    \n",
    "    current = startvalue\n",
    "    fval = funcname(current, arglist)\n",
    "    #Gradient of the function\n",
    "    grad = (funcname(current+0.5*1e-5, arglist) - funcname(current-0.5*1e-5, arglist)) * 1e+5\n",
    "    \n",
    "    \n",
    "    secgrad1 = (funcname(current+0.5*1e-5+0.5*1e-5, arglist) - funcname(current-0.5*1e-5+0.5*1e-5, arglist)) * 1e+5\n",
    "    secgrad2 = (funcname(current+0.5*1e-5-0.5*1e-5, arglist) - funcname(current-0.5*1e-5-0.5*1e-5, arglist)) * 1e+5\n",
    "    secderiv = (secgrad1 - secgrad2) * 1e+5\n",
    "    \n",
    "    while (abs(grad)>1e-8):\n",
    "        \n",
    "        current = current - grad/secderiv #Newton's formula\n",
    "        fval = funcname(current, arglist)\n",
    "        grad = (funcname(current+0.5*1e-5, arglist) - funcname(current-0.5*1e-5, arglist)) * 1e+5\n",
    "        \n",
    "        secgrad1 = (funcname(current+0.5*1e-5+0.5*1e-5, arglist) - funcname(current-0.5*1e-5+0.5*1e-5, arglist)) * 1e+5\n",
    "        secgrad2 = (funcname(current+0.5*1e-5-0.5*1e-5,arglist) - funcname(current-0.5*1e-5-0.5*1e-5, arglist)) * 1e+5\n",
    "        secderiv = (secgrad1-secgrad2) * 1e+5\n",
    "\n",
    "    return current"
   ]
  },
  {
   "cell_type": "code",
   "execution_count": 123,
   "id": "45606228",
   "metadata": {},
   "outputs": [],
   "source": [
    "def utility_with_budget_init(z,p): #The inner function\n",
    "    \n",
    "    ''' z is the number that maximizes the budget and p is the parameter we pass to maximize the utility function '''\n",
    "    \n",
    "    ufunct = 0.5 * np.log(z) + 0.5 * np.log(20 - p*z)\n",
    "    return ufunct\n",
    "\n",
    "def demand(p): #The outerfunction, \n",
    "    demand = our_newton_maximizer(utility_with_budget_init, 1, p)\n",
    "    return demand"
   ]
  },
  {
   "cell_type": "code",
   "execution_count": 124,
   "id": "b8ebf70a",
   "metadata": {},
   "outputs": [
    {
     "name": "stdout",
     "output_type": "stream",
     "text": [
      "10.000000000166496\n",
      "9.090909087840851\n"
     ]
    }
   ],
   "source": [
    "print(demand(1)) #If price is 1 then Qd is 10\n",
    "print(demand(1.1)) #If price is 1 then Qd is 9.09"
   ]
  },
  {
   "cell_type": "code",
   "execution_count": 125,
   "id": "ccb23fa5",
   "metadata": {},
   "outputs": [
    {
     "data": {
      "image/png": "[encoded data removed]",
      "text/plain": [
       "<Figure size 432x288 with 1 Axes>"
      ]
     },
     "metadata": {},
     "output_type": "display_data"
    }
   ],
   "source": [
    "prices = np.linspace(0.1, 10, 100)\n",
    "demands = np.zeros(100)\n",
    "\n",
    "for i in range(100):\n",
    "    demands[i] = demand(prices[i])\n",
    "    \n",
    "plt.plot(prices, demands)\n",
    "\n",
    "plt.ylim(0, 10)\n",
    "plt.xlim(0, 10)\n",
    "plt.title(\"Picture 1: Demand function, Cobb-Douglas utility\")\n",
    "plt.xlabel(\"Price of good x, price of y is 1\")\n",
    "plt.ylabel(\"Quantity demanded of good x\")\n",
    "plt.savefig('demand.png')"
   ]
  },
  {
   "cell_type": "markdown",
   "id": "e5783cb1",
   "metadata": {},
   "source": [
    "The graph above shows the demand function as a function or price (or w.r.t price)."
   ]
  },
  {
   "cell_type": "markdown",
   "id": "6897cfd0",
   "metadata": {},
   "source": [
    "#### Problem 3c\n",
    "\n",
    "In a consumer choice problem, we want to make a curve characterized by 0.5 log(x) + 0.5 log(w) = 10. Please graph this curve. (This is an indifference curve)."
   ]
  },
  {
   "cell_type": "code",
   "execution_count": 126,
   "id": "45a0b3ff",
   "metadata": {},
   "outputs": [],
   "source": [
    "def indiff(w, x): #The inner function\n",
    "    ifunct1 = 0.5*np.log(x) + 0.5*np.log(w) - 10\n",
    "    return ifunct1\n",
    "\n",
    "def indiffw(x): #The outer function \n",
    "    ifunct2 = our_newton_solver(indiff, 1, x)\n",
    "    return ifunct2"
   ]
  },
  {
   "cell_type": "code",
   "execution_count": 127,
   "id": "2097c944",
   "metadata": {},
   "outputs": [
    {
     "data": {
      "text/plain": [
       "48516.51953931566"
      ]
     },
     "execution_count": 127,
     "metadata": {},
     "output_type": "execute_result"
    }
   ],
   "source": [
    "indiffw(10000) #10K unit of x, yields 48K unit of y "
   ]
  },
  {
   "cell_type": "code",
   "execution_count": 128,
   "id": "d0e1902d",
   "metadata": {},
   "outputs": [
    {
     "data": {
      "text/plain": [
       "(0.0, 200000.0)"
      ]
     },
     "execution_count": 128,
     "metadata": {},
     "output_type": "execute_result"
    },
    {
     "data": {
      "image/png": "[encoded data removed]",
      "text/plain": [
       "<Figure size 432x288 with 1 Axes>"
      ]
     },
     "metadata": {},
     "output_type": "display_data"
    }
   ],
   "source": [
    "x = np.linspace(1, 200000, 1000)\n",
    "w = np.zeros(1000)\n",
    "\n",
    "for i in range(1000):\n",
    "    w[i] = indiffw(x[i])\n",
    "\n",
    "plt.plot(x, w)\n",
    "plt.ylim(0, 200000)\n",
    "plt.xlim(0, 200000)"
   ]
  },
  {
   "cell_type": "markdown",
   "id": "0d56a3b3",
   "metadata": {},
   "source": [
    "The above is an indifference curve."
   ]
  },
  {
   "cell_type": "markdown",
   "id": "66f7ebba",
   "metadata": {},
   "source": [
    "#### Problem 3d\n",
    "\n",
    "In a consumer choice problem, we want to find the value of 0.5 log(x) + 0.5 log(w), when x is given as in 3b and w = 20 - p*x. Please graph this function. (This is an indirect utility function, where in it takes income and price as an argument)\n",
    "\n"
   ]
  },
  {
   "cell_type": "code",
   "execution_count": 90,
   "id": "1e8e846e",
   "metadata": {},
   "outputs": [],
   "source": [
    "def indirect_utility(p):\n",
    "    x = our_newton_maximizer(utility_with_budget_init, 1, p)\n",
    "    return utility_with_budget_init(x, p)  "
   ]
  },
  {
   "cell_type": "code",
   "execution_count": 91,
   "id": "14dd434c",
   "metadata": {},
   "outputs": [
    {
     "data": {
      "text/plain": [
       "1.753278948659991"
      ]
     },
     "execution_count": 91,
     "metadata": {},
     "output_type": "execute_result"
    }
   ],
   "source": [
    "indirect_utility(3)"
   ]
  },
  {
   "cell_type": "code",
   "execution_count": 92,
   "id": "33b94b7d",
   "metadata": {},
   "outputs": [
    {
     "data": {
      "text/plain": [
       "Text(0, 0.5, 'Utility when maximized')"
      ]
     },
     "execution_count": 92,
     "metadata": {},
     "output_type": "execute_result"
    },
    {
     "data": {
      "image/png": "[encoded data removed]",
      "text/plain": [
       "<Figure size 432x288 with 1 Axes>"
      ]
     },
     "metadata": {},
     "output_type": "display_data"
    }
   ],
   "source": [
    "prices = np.linspace(0.1,10,100)\n",
    "utilities = np.zeros(100)\n",
    "\n",
    "for i in range(100):\n",
    "    utilities[i] = indirect_utility(prices[i])\n",
    "\n",
    "plt.plot(prices, utilities)\n",
    "plt.ylim(0, 4)\n",
    "plt.xlim(0, 10)\n",
    "plt.title(\"Picture 3d: Indirect utility (utility as function of price), Cobb-Douglas utility\")\n",
    "plt.xlabel(\"Price of good x, price of y is 1\")\n",
    "plt.ylabel(\"Utility when maximized\")"
   ]
  },
  {
   "cell_type": "markdown",
   "id": "9d43712e",
   "metadata": {},
   "source": [
    "#### Problem 3e\n",
    "\n",
    "In a consumer choice problem, we want to find the income that together with the prices given lead to a certain utility level. In other words we want to find the value I, such that 0.5 log(x) + 0.5 log(w) = u, when x is given as in 3b and w = I - p*x. Please graph this function \n"
   ]
  },
  {
   "cell_type": "markdown",
   "id": "af9564f0",
   "metadata": {},
   "source": [
    "So to answer this problem, we need to find the amount of income that is necessary to produce a certain amount of utility (given the prices). First, I extend the 3b-stuff to allow the income as an argument in the demand function"
   ]
  },
  {
   "cell_type": "code",
   "execution_count": 93,
   "id": "9a292e3b",
   "metadata": {},
   "outputs": [],
   "source": [
    "def utility_with_budget_init2(z, mylist):\n",
    "    p = mylist[0]\n",
    "    I = mylist[1]\n",
    "    funct = 0.5 * np.log(z) + 0.5 * np.log(I-p*z)\n",
    "    return funct\n",
    "\n",
    "def demand2(p, I):\n",
    "    demand2 = our_newton_maximizer(utility_with_budget_init2, 1, [p,I])\n",
    "    return demand2"
   ]
  },
  {
   "cell_type": "code",
   "execution_count": 94,
   "id": "ea0527e2",
   "metadata": {},
   "outputs": [
    {
     "data": {
      "text/plain": [
       "2.7499999898361702"
      ]
     },
     "execution_count": 94,
     "metadata": {},
     "output_type": "execute_result"
    }
   ],
   "source": [
    "demand2(2, 11)"
   ]
  },
  {
   "cell_type": "code",
   "execution_count": 129,
   "id": "fea35d04",
   "metadata": {},
   "outputs": [],
   "source": [
    "def target(income, u):\n",
    "    x = demand2(1, income)\n",
    "    tar = utility_with_budget_init2(x, [1,income]) - u\n",
    "    return tar\n",
    "\n",
    "def required_income(u):\n",
    "    Ireq = our_newton_solver(target, 10, u)\n",
    "    return Ireq"
   ]
  },
  {
   "cell_type": "code",
   "execution_count": 130,
   "id": "e6918de6",
   "metadata": {},
   "outputs": [
    {
     "data": {
      "text/plain": [
       "40.17107384377623"
      ]
     },
     "execution_count": 130,
     "metadata": {},
     "output_type": "execute_result"
    }
   ],
   "source": [
    "required_income(3)"
   ]
  },
  {
   "cell_type": "code",
   "execution_count": 97,
   "id": "18a12b75",
   "metadata": {},
   "outputs": [
    {
     "data": {
      "text/plain": [
       "Text(0, 0.5, 'Required income')"
      ]
     },
     "execution_count": 97,
     "metadata": {},
     "output_type": "execute_result"
    },
    {
     "data": {
      "image/png": "[encoded data removed]",
      "text/plain": [
       "<Figure size 432x288 with 1 Axes>"
      ]
     },
     "metadata": {},
     "output_type": "display_data"
    }
   ],
   "source": [
    "utils = np.linspace(1, 3, 100)\n",
    "reqinc = np.zeros(100)\n",
    "\n",
    "for i in range(100):\n",
    "    reqinc[i] = required_income(utils[i])\n",
    "    \n",
    "plt.plot(utils, reqinc)\n",
    "plt.ylim(0, 50)\n",
    "plt.xlim(1, 3)\n",
    "plt.title(\"Picture 3e: Income required to reach a certain utility level, given prices, Cobb-Douglas utility\")\n",
    "plt.xlabel(\"Utility (0.5 log x + 0.5 log y)\")\n",
    "plt.ylabel(\"Required income\")"
   ]
  },
  {
   "cell_type": "markdown",
   "id": "84c7eaa1",
   "metadata": {},
   "source": [
    "### Problem 4  - Stability and Newton’s method. <a class=\"anchor\" id=\"Problem4\"></a>\n",
    "\n",
    "Newton’s method does not work well if the function we want to maximize is not well approximated by a quadratic function. A key difference between algorithms made for solving equations and function maximizers is that when we want to maximize a function we can check whether we are moving upwards.\n",
    "\n",
    "[[Back to TOC]](#Table-of-Contents)"
   ]
  },
  {
   "cell_type": "markdown",
   "id": "4a3bd561",
   "metadata": {},
   "source": [
    "#### Problem 4a\n",
    "\n",
    "Redo problem 1d now using Newton’s method. Characterize how what happens depend on the starting value. (There should be a set of starting values that lead us to the local maximum and a set of starting values that lead us to the local minimum and there should be sets of starting values for which the function does not converge.)"
   ]
  },
  {
   "cell_type": "markdown",
   "id": "12270804",
   "metadata": {},
   "source": [
    "#### Problem 4b\n",
    "\n",
    "Implement a new version of the function maximization routine with the following improvement: Do not automatically accept a new point based on the standard “Newton formula”. Instead: If the current accepted point is x_i, if x_(i+1) does not lead to a higher function value, choose a new x_(i+1) halfway between x_i and x_(i+1). Do this iteratively until you get an increase in function value. (In both problems 4b and 4c, make sure to get output from the routine, so that we can study what is going on)."
   ]
  },
  {
   "cell_type": "markdown",
   "id": "b04f7fd3",
   "metadata": {},
   "source": [
    "#### Problem 4c\n",
    "\n",
    "Implement a new version of the function maximization routine with the following improvement: Introduce the concept of a “trust region”. We are only willing to assume that the quadratic approximation of the function holds within this region. Say the trust region is only a distance of 0.1 from the current value. So if the Newton step is longer than that, just move 0.1 in the same direction as the Newton step."
   ]
  },
  {
   "cell_type": "code",
   "execution_count": null,
   "id": "7badd095",
   "metadata": {},
   "outputs": [],
   "source": []
  }
 ],
 "metadata": {
  "kernelspec": {
   "display_name": "Python 3 (ipykernel)",
   "language": "python",
   "name": "python3"
  },
  "language_info": {
   "codemirror_mode": {
    "name": "ipython",
    "version": 3
   },
   "file_extension": ".py",
   "mimetype": "text/x-python",
   "name": "python",
   "nbconvert_exporter": "python",
   "pygments_lexer": "ipython3",
   "version": "3.9.7"
  }
 },
 "nbformat": 4,
 "nbformat_minor": 5
}
